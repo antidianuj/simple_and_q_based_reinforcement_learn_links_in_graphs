{
  "nbformat": 4,
  "nbformat_minor": 0,
  "metadata": {
    "colab": {
      "name": "link_prediction_via_reinforcement_learning.ipynb",
      "provenance": [],
      "collapsed_sections": []
    },
    "kernelspec": {
      "name": "python3",
      "display_name": "Python 3"
    },
    "language_info": {
      "name": "python"
    }
  },
  "cells": [
    {
      "cell_type": "code",
      "metadata": {
        "colab": {
          "base_uri": "https://localhost:8080/"
        },
        "id": "5a8WMM66XPdE",
        "outputId": "44a90ef7-552d-40f8-88b7-5b1374394c39"
      },
      "source": [
        " from google.colab import drive\n",
        "drive.mount('/content/drive',force_remount=True)"
      ],
      "execution_count": null,
      "outputs": [
        {
          "output_type": "stream",
          "text": [
            "Mounted at /content/drive\n"
          ],
          "name": "stdout"
        }
      ]
    },
    {
      "cell_type": "code",
      "metadata": {
        "id": "Fp34DxZpfEE4"
      },
      "source": [
        "import pandas as pd\n",
        "import numpy as np\n",
        "from sklearn.tree import DecisionTreeClassifier # Import Decision Tree Classifier\n",
        "from sklearn.model_selection import train_test_split # Import train_test_split function\n",
        "from sklearn import metrics #Import scikit-learn metrics module for accuracy calculation\n",
        "from sklearn.metrics import classification_report, confusion_matrix, accuracy_score\n",
        "from sklearn.metrics import precision_score\n",
        "from sklearn.metrics import recall_score\n",
        "from sklearn.metrics import accuracy_score\n",
        "from sklearn.model_selection import KFold\n",
        "from sklearn.model_selection import LeavePOut\n"
      ],
      "execution_count": null,
      "outputs": []
    },
    {
      "cell_type": "code",
      "metadata": {
        "colab": {
          "base_uri": "https://localhost:8080/",
          "height": 212
        },
        "id": "xdvvtutHdviB",
        "outputId": "5af41053-9578-4477-8dd7-6f135276be90"
      },
      "source": [
        "col_names_edge = ['Source', 'Target']\n",
        "col_names_node=['Names']\n",
        "pima_edge = pd.read_csv(\"/content/drive/MyDrive/Graph_Processing/Dat_edge_list.csv\", header=None, names=col_names_edge)\n",
        "pima_node = pd.read_csv(\"/content/drive/MyDrive/Graph_Processing/Dat_node_list.csv\", header=None, names=col_names_node)\n",
        "print(\"Edge List\")\n",
        "pima_edge.head()"
      ],
      "execution_count": null,
      "outputs": [
        {
          "output_type": "stream",
          "text": [
            "Edge List\n"
          ],
          "name": "stdout"
        },
        {
          "output_type": "execute_result",
          "data": {
            "text/html": [
              "<div>\n",
              "<style scoped>\n",
              "    .dataframe tbody tr th:only-of-type {\n",
              "        vertical-align: middle;\n",
              "    }\n",
              "\n",
              "    .dataframe tbody tr th {\n",
              "        vertical-align: top;\n",
              "    }\n",
              "\n",
              "    .dataframe thead th {\n",
              "        text-align: right;\n",
              "    }\n",
              "</style>\n",
              "<table border=\"1\" class=\"dataframe\">\n",
              "  <thead>\n",
              "    <tr style=\"text-align: right;\">\n",
              "      <th></th>\n",
              "      <th>Source</th>\n",
              "      <th>Target</th>\n",
              "    </tr>\n",
              "  </thead>\n",
              "  <tbody>\n",
              "    <tr>\n",
              "      <th>0</th>\n",
              "      <td>George Keith</td>\n",
              "      <td>Robert Barclay</td>\n",
              "    </tr>\n",
              "    <tr>\n",
              "      <th>1</th>\n",
              "      <td>George Keith</td>\n",
              "      <td>Benjamin Furly</td>\n",
              "    </tr>\n",
              "    <tr>\n",
              "      <th>2</th>\n",
              "      <td>George Keith</td>\n",
              "      <td>Anne Conway Viscountess Conway and Killultagh</td>\n",
              "    </tr>\n",
              "    <tr>\n",
              "      <th>3</th>\n",
              "      <td>George Keith</td>\n",
              "      <td>Franciscus Mercurius van Helmont</td>\n",
              "    </tr>\n",
              "    <tr>\n",
              "      <th>4</th>\n",
              "      <td>George Keith</td>\n",
              "      <td>William Penn</td>\n",
              "    </tr>\n",
              "  </tbody>\n",
              "</table>\n",
              "</div>"
            ],
            "text/plain": [
              "         Source                                         Target\n",
              "0  George Keith                                 Robert Barclay\n",
              "1  George Keith                                 Benjamin Furly\n",
              "2  George Keith  Anne Conway Viscountess Conway and Killultagh\n",
              "3  George Keith               Franciscus Mercurius van Helmont\n",
              "4  George Keith                                   William Penn"
            ]
          },
          "metadata": {
            "tags": []
          },
          "execution_count": 13
        }
      ]
    },
    {
      "cell_type": "code",
      "metadata": {
        "colab": {
          "base_uri": "https://localhost:8080/",
          "height": 212
        },
        "id": "HgZLdPgrfSkq",
        "outputId": "91e95d35-284d-46de-8c16-fa3b34313d4b"
      },
      "source": [
        "print(\"Node List\")\n",
        "pima_node.head()"
      ],
      "execution_count": null,
      "outputs": [
        {
          "output_type": "stream",
          "text": [
            "Node List\n"
          ],
          "name": "stdout"
        },
        {
          "output_type": "execute_result",
          "data": {
            "text/html": [
              "<div>\n",
              "<style scoped>\n",
              "    .dataframe tbody tr th:only-of-type {\n",
              "        vertical-align: middle;\n",
              "    }\n",
              "\n",
              "    .dataframe tbody tr th {\n",
              "        vertical-align: top;\n",
              "    }\n",
              "\n",
              "    .dataframe thead th {\n",
              "        text-align: right;\n",
              "    }\n",
              "</style>\n",
              "<table border=\"1\" class=\"dataframe\">\n",
              "  <thead>\n",
              "    <tr style=\"text-align: right;\">\n",
              "      <th></th>\n",
              "      <th>Names</th>\n",
              "    </tr>\n",
              "  </thead>\n",
              "  <tbody>\n",
              "    <tr>\n",
              "      <th>0</th>\n",
              "      <td>Joseph Wyeth</td>\n",
              "    </tr>\n",
              "    <tr>\n",
              "      <th>1</th>\n",
              "      <td>Alexander Skene of Newtyle</td>\n",
              "    </tr>\n",
              "    <tr>\n",
              "      <th>2</th>\n",
              "      <td>James Logan</td>\n",
              "    </tr>\n",
              "    <tr>\n",
              "      <th>3</th>\n",
              "      <td>Dorcas Erbery</td>\n",
              "    </tr>\n",
              "    <tr>\n",
              "      <th>4</th>\n",
              "      <td>Lilias Skene</td>\n",
              "    </tr>\n",
              "  </tbody>\n",
              "</table>\n",
              "</div>"
            ],
            "text/plain": [
              "                        Names\n",
              "0                Joseph Wyeth\n",
              "1  Alexander Skene of Newtyle\n",
              "2                 James Logan\n",
              "3               Dorcas Erbery\n",
              "4                Lilias Skene"
            ]
          },
          "metadata": {
            "tags": []
          },
          "execution_count": 14
        }
      ]
    },
    {
      "cell_type": "code",
      "metadata": {
        "id": "j7SPTYjhfvy8"
      },
      "source": [
        "pima_edge=pima_edge.to_numpy()\n",
        "pima_node=pima_node.to_numpy()"
      ],
      "execution_count": null,
      "outputs": []
    },
    {
      "cell_type": "code",
      "metadata": {
        "colab": {
          "base_uri": "https://localhost:8080/"
        },
        "id": "iUUo676wf-Dx",
        "outputId": "a9937a7e-da16-4d26-ab6b-00c31b7a266c"
      },
      "source": [
        "a,b=pima_node.shape\n",
        "Node_Id=np.arange(1,a+1)\n",
        "\n",
        "\n",
        "\n",
        "A,B=pima_edge.shape\n",
        "Edge_Id=np.zeros([A,B])\n",
        "\n",
        "for i in range(A):\n",
        "  result1=np.where(pima_node == pima_edge[i,0])\n",
        "  Edge_Id[i,0] = result1[0]+1\n",
        "  result2=np.where(pima_node == pima_edge[i,1])\n",
        "  Edge_Id[i,1] = result2[0]+1\n",
        "\n",
        "print(\"Sample Edge List\")\n",
        "print(Edge_Id[0:10,:])\n",
        "\n",
        "\n",
        "Edge_Id_new=np.zeros([A+10,B])\n",
        "Edge_Id_new_2=np.zeros([A+5,B])\n",
        "\n",
        "Edge_Id_new[0:A,:]=np.copy(Edge_Id)\n",
        "\n"
      ],
      "execution_count": null,
      "outputs": [
        {
          "output_type": "stream",
          "text": [
            "Sample Edge List\n",
            "[[ 67.  52.]\n",
            " [ 67.  42.]\n",
            " [ 67.  79.]\n",
            " [ 67.  70.]\n",
            " [ 67. 107.]\n",
            " [ 67.  16.]\n",
            " [ 67.  39.]\n",
            " [ 67.  11.]\n",
            " [ 68.  42.]\n",
            " [ 68.  26.]]\n"
          ],
          "name": "stdout"
        }
      ]
    },
    {
      "cell_type": "code",
      "metadata": {
        "id": "Jms1PPzM6E4f"
      },
      "source": [
        "# x=np.random.randint(1,5,(1,2))\n",
        "# y=np.copy(x)\n",
        "# y[0]=10\n",
        "# print(y)\n",
        "for i in range(A+1,A+10):\n",
        "  x=np.random.randint(1,119,2)\n",
        "  for ith in range(Edge_Id.shape[0]):\n",
        "    if (x[0]!=Edge_Id[ith,0] and x[1]!=Edge_Id[ith,1]) or (x[1]!=Edge_Id[ith,0] and x[0]!=Edge_Id[ith,1]):\n",
        "      Edge_Id_new[i,:]=x\n",
        "\n",
        "\n"
      ],
      "execution_count": null,
      "outputs": []
    },
    {
      "cell_type": "code",
      "metadata": {
        "colab": {
          "base_uri": "https://localhost:8080/"
        },
        "id": "W-lRjuNbAas7",
        "outputId": "0ad061b7-ce5e-42b8-be3b-bbecd88d1893"
      },
      "source": [
        "x"
      ],
      "execution_count": null,
      "outputs": [
        {
          "output_type": "execute_result",
          "data": {
            "text/plain": [
              "array([[37, 95]])"
            ]
          },
          "metadata": {
            "tags": []
          },
          "execution_count": 21
        }
      ]
    },
    {
      "cell_type": "code",
      "metadata": {
        "id": "YrvFt4ujujrB"
      },
      "source": [
        "def num_common_elements(a, b):\n",
        "  a.sort()\n",
        "  b.sort()\n",
        "  i, j = 0, 0\n",
        "  common = []\n",
        "  while i < len(a) and j < len(b):\n",
        "    if a[i] == b[j]:\n",
        "      common.append(a[i])\n",
        "      i += 1\n",
        "      j += 1\n",
        "    elif a[i] < b[j]:\n",
        "      i += 1\n",
        "    else:\n",
        "      j += 1\n",
        "  return len(common)"
      ],
      "execution_count": null,
      "outputs": []
    },
    {
      "cell_type": "code",
      "metadata": {
        "id": "e3WAXqt7gZE0"
      },
      "source": [
        "J_Matrix=np.zeros([a,a])\n",
        "J_Matrix_new=np.zeros([a,a])\n",
        "J_Matrix_new_2=np.zeros([a,a])\n",
        "X_Matrix=np.zeros([a,a])\n",
        "X_Matrix_new=np.zeros([a,a])\n",
        "X_Matrix_new_2=np.zeros([a,a])\n",
        "\n",
        "np.random.randint(2, size=10)\n",
        "for i in range(a):\n",
        "  for j in range(a):\n",
        "    resulti=np.where(Edge_Id == Node_Id[i])\n",
        "    resultj=np.where(Edge_Id == Node_Id[j])\n",
        "    Set_i=Edge_Id[resulti[0],1-resulti[1]]\n",
        "    Set_j=Edge_Id[resultj[0],1-resultj[1]]\n",
        "    J_Matrix[i,j]=num_common_elements(Set_i, Set_j)\n",
        "    X_Matrix[i,j]=num_common_elements(Set_i, Set_j)\n",
        "\n",
        "for i in range(a):\n",
        "  for j in range(a):\n",
        "    resulti=np.where(Edge_Id_new == Node_Id[i])\n",
        "    resultj=np.where(Edge_Id_new == Node_Id[j])\n",
        "    Set_i=Edge_Id_new[resulti[0],1-resulti[1]]\n",
        "    Set_j=Edge_Id_new[resultj[0],1-resultj[1]]\n",
        "    J_Matrix_new[i,j]=num_common_elements(Set_i, Set_j)\n",
        "    X_Matrix_new[i,j]=num_common_elements(Set_i, Set_j)\n",
        "\n",
        "\n",
        "for i in range(a):\n",
        "  for j in range(a):\n",
        "    resulti=np.where(Edge_Id_new_2 == Node_Id[i])\n",
        "    resultj=np.where(Edge_Id_new_2 == Node_Id[j])\n",
        "    Set_i=Edge_Id_new[resulti[0],1-resulti[1]]\n",
        "    Set_j=Edge_Id_new[resultj[0],1-resultj[1]]\n",
        "    J_Matrix_new_2[i,j]=num_common_elements(Set_i, Set_j)\n",
        "    X_Matrix_new_2[i,j]=num_common_elements(Set_i, Set_j)\n",
        "\n",
        "\n"
      ],
      "execution_count": null,
      "outputs": []
    },
    {
      "cell_type": "code",
      "metadata": {
        "colab": {
          "base_uri": "https://localhost:8080/",
          "height": 624
        },
        "id": "BFXnatWehowZ",
        "outputId": "36a7a755-a7b3-4313-e234-cfd0e7ed5a76"
      },
      "source": [
        "import numpy as np\n",
        "import matplotlib.pyplot as plt\n",
        "import math\n",
        "import cv2\n",
        "from random import randrange\n",
        "\n",
        "cv2.normalize(X_Matrix, X_Matrix, 0, 255, cv2.NORM_MINMAX, -1)\n",
        "plt.figure(figsize=(10,10))\n",
        "plt.title(\"Common Neighbor Matrix grayscale plot\" )\n",
        "plt.imshow(X_Matrix,cmap=plt.get_cmap('gray'))"
      ],
      "execution_count": null,
      "outputs": [
        {
          "output_type": "execute_result",
          "data": {
            "text/plain": [
              "<matplotlib.image.AxesImage at 0x7fca36608ad0>"
            ]
          },
          "metadata": {
            "tags": []
          },
          "execution_count": 25
        },
        {
          "output_type": "display_data",
          "data": {
            "image/png": "[encoded data removed]",
            "text/plain": [
              "<Figure size 720x720 with 1 Axes>"
            ]
          },
          "metadata": {
            "tags": [],
            "needs_background": "light"
          }
        }
      ]
    },
    {
      "cell_type": "code",
      "metadata": {
        "colab": {
          "base_uri": "https://localhost:8080/"
        },
        "id": "TWUiOopD9jPQ",
        "outputId": "a2ae40aa-8850-4cbd-cff4-93311bc644ea"
      },
      "source": [
        "bal=np.array([0,1])\n",
        "yal=bal\n",
        "yal[0]=1\n",
        "print(bal)"
      ],
      "execution_count": null,
      "outputs": [
        {
          "output_type": "stream",
          "text": [
            "[1 1]\n"
          ],
          "name": "stdout"
        }
      ]
    },
    {
      "cell_type": "code",
      "metadata": {
        "colab": {
          "base_uri": "https://localhost:8080/",
          "height": 624
        },
        "id": "eHzXOIjH5mr3",
        "outputId": "11f70bdd-39f4-484e-9035-270be68bb30f"
      },
      "source": [
        "\n",
        "cv2.normalize(X_Matrix_new, X_Matrix_new, 0, 255, cv2.NORM_MINMAX, -1)\n",
        "plt.figure(figsize=(10,10))\n",
        "plt.title(\"Common Neighbor Matrix grayscale plot\" )\n",
        "plt.imshow(X_Matrix_new,cmap=plt.get_cmap('gray'))"
      ],
      "execution_count": null,
      "outputs": [
        {
          "output_type": "execute_result",
          "data": {
            "text/plain": [
              "<matplotlib.image.AxesImage at 0x7fca365a5b10>"
            ]
          },
          "metadata": {
            "tags": []
          },
          "execution_count": 26
        },
        {
          "output_type": "display_data",
          "data": {
            "image/png": "[encoded data removed]",
            "text/plain": [
              "<Figure size 720x720 with 1 Axes>"
            ]
          },
          "metadata": {
            "tags": [],
            "needs_background": "light"
          }
        }
      ]
    },
    {
      "cell_type": "code",
      "metadata": {
        "colab": {
          "base_uri": "https://localhost:8080/",
          "height": 624
        },
        "id": "oi4OLl5o5w7z",
        "outputId": "6ca7acd1-a938-4711-a79b-8bdf4c952747"
      },
      "source": [
        "\n",
        "cv2.normalize(X_Matrix_new_2, X_Matrix_new_2, 0, 255, cv2.NORM_MINMAX, -1)\n",
        "plt.figure(figsize=(10,10))\n",
        "plt.title(\"Common Neighbor Matrix grayscale plot\" )\n",
        "plt.imshow(X_Matrix_new_2,cmap=plt.get_cmap('gray'))"
      ],
      "execution_count": null,
      "outputs": [
        {
          "output_type": "execute_result",
          "data": {
            "text/plain": [
              "<matplotlib.image.AxesImage at 0x7fca36103e90>"
            ]
          },
          "metadata": {
            "tags": []
          },
          "execution_count": 27
        },
        {
          "output_type": "display_data",
          "data": {
            "image/png": "[encoded data removed]",
            "text/plain": [
              "<Figure size 720x720 with 1 Axes>"
            ]
          },
          "metadata": {
            "tags": [],
            "needs_background": "light"
          }
        }
      ]
    },
    {
      "cell_type": "code",
      "metadata": {
        "id": "P1Tr6vyGvwQp"
      },
      "source": [
        "Label_Matrix=np.zeros([a,a])\n",
        "for i in range(a):\n",
        "  for j in range(a):\n",
        "    for ind in range(A):\n",
        "      if (Node_Id[i]==Edge_Id[ind,0] and Node_Id[j]==Edge_Id[ind,1]) or (Node_Id[i]==Edge_Id[ind,1] and Node_Id[j]==Edge_Id[ind,0]):\n",
        "        Label_Matrix[i,j]=1\n",
        "        break\n",
        "\n",
        "\n",
        "\n"
      ],
      "execution_count": null,
      "outputs": []
    },
    {
      "cell_type": "code",
      "metadata": {
        "colab": {
          "base_uri": "https://localhost:8080/"
        },
        "id": "KfdTRe1dvtxg",
        "outputId": "9f7cd2a7-9a17-4db7-a8bb-5ebeaab622c4"
      },
      "source": [
        "import numpy as np\n",
        "np.random.randint(1,5, size=(2, 4))"
      ],
      "execution_count": null,
      "outputs": [
        {
          "output_type": "execute_result",
          "data": {
            "text/plain": [
              "array([[3, 3, 1, 1],\n",
              "       [2, 2, 2, 2]])"
            ]
          },
          "metadata": {
            "tags": []
          },
          "execution_count": 28
        }
      ]
    },
    {
      "cell_type": "code",
      "metadata": {
        "colab": {
          "base_uri": "https://localhost:8080/"
        },
        "id": "hTlAOMk91A8y",
        "outputId": "5e5d1e13-2e15-4b8d-a97b-0e27b5ee1063"
      },
      "source": [
        "print(\"Sample Label Matrix\")\n",
        "print(Label_Matrix[0:10,0:10])"
      ],
      "execution_count": null,
      "outputs": [
        {
          "output_type": "stream",
          "text": [
            "Sample Label Matrix\n",
            "[[0. 0. 0. 0. 0. 0. 0. 0. 0. 0.]\n",
            " [0. 0. 0. 0. 1. 0. 0. 0. 0. 0.]\n",
            " [0. 0. 0. 0. 0. 0. 0. 0. 0. 0.]\n",
            " [0. 0. 0. 0. 0. 0. 0. 0. 0. 0.]\n",
            " [0. 1. 0. 0. 0. 0. 0. 0. 0. 0.]\n",
            " [0. 0. 0. 0. 0. 0. 0. 0. 0. 0.]\n",
            " [0. 0. 0. 0. 0. 0. 0. 0. 0. 0.]\n",
            " [0. 0. 0. 0. 0. 0. 0. 0. 0. 0.]\n",
            " [0. 0. 0. 0. 0. 0. 0. 0. 0. 0.]\n",
            " [0. 0. 0. 0. 0. 0. 0. 0. 0. 0.]]\n"
          ],
          "name": "stdout"
        }
      ]
    },
    {
      "cell_type": "code",
      "metadata": {
        "id": "CFaYmNEZ1imq",
        "colab": {
          "base_uri": "https://localhost:8080/"
        },
        "outputId": "9a654268-0f56-4d83-b4b8-6bf0366437be"
      },
      "source": [
        "# Data_X=J_Matrix.flatten()\n",
        "Data_Y=Label_Matrix.flatten()\n",
        "Data_X=J_Matrix_new.flatten()\n",
        "\n",
        "print(Data_X.shape)"
      ],
      "execution_count": null,
      "outputs": [
        {
          "output_type": "stream",
          "text": [
            "(14161,)\n"
          ],
          "name": "stdout"
        }
      ]
    },
    {
      "cell_type": "code",
      "metadata": {
        "colab": {
          "base_uri": "https://localhost:8080/",
          "height": 1000
        },
        "id": "y599zxVkBlNc",
        "outputId": "409cdbf7-3f33-46bd-a490-9e1d75d7de67"
      },
      "source": [
        "from keras.models import Sequential\n",
        "from keras.layers import Dense\n",
        "from sklearn.model_selection import StratifiedKFold\n",
        "model = Sequential()\n",
        "model.add(Dense(12, input_dim=1, kernel_initializer= 'uniform' , activation= 'relu' ))\n",
        "model.add(Dense(8, kernel_initializer= 'uniform' , activation= 'relu' ))\n",
        "model.add(Dense(1, kernel_initializer= 'uniform' , activation= 'sigmoid' ))\n",
        "\n",
        "# Compile model\n",
        "model.compile(loss= 'binary_crossentropy' , optimizer= 'adam' , metrics=[ 'accuracy' ])\n",
        "\n",
        "history= model.fit(Data_X.reshape(-1, 1), Data_Y, validation_split=0.33, epochs=150, batch_size=10)\n",
        "\n",
        "import matplotlib.pyplot as plt\n",
        "print(history.history.keys())\n",
        "# summarize history for accuracy\n",
        "plt.plot(history.history[ 'accuracy' ])\n",
        "plt.plot(history.history[ 'val_accuracy' ])\n",
        "plt.title( 'model accuracy' )\n",
        "plt.ylabel( 'accuracy' )\n",
        "plt.xlabel( 'epoch' )\n",
        "plt.legend([ 'train' , 'test' ], loc= 'lower right' )\n",
        "plt.show()\n",
        "\n",
        "import matplotlib.pyplot as plt\n",
        "print(history.history.keys())\n",
        "# summarize history for accuracy\n",
        "plt.plot(history.history[ 'loss' ])\n",
        "plt.plot(history.history[ 'val_loss' ])\n",
        "plt.title( 'model loss' )\n",
        "plt.ylabel( 'loss' )\n",
        "plt.xlabel( 'epoch' )\n",
        "plt.legend([ 'train' , 'test' ], loc= 'upper left' )\n",
        "plt.show()\n"
      ],
      "execution_count": null,
      "outputs": [
        {
          "output_type": "stream",
          "text": [
            "Epoch 1/150\n",
            "949/949 [==============================] - 2s 2ms/step - loss: 0.4219 - accuracy: 0.9748 - val_loss: 0.1117 - val_accuracy: 0.9767\n",
            "Epoch 2/150\n",
            "949/949 [==============================] - 1s 2ms/step - loss: 0.1190 - accuracy: 0.9736 - val_loss: 0.0989 - val_accuracy: 0.9767\n",
            "Epoch 3/150\n",
            "949/949 [==============================] - 1s 2ms/step - loss: 0.1054 - accuracy: 0.9752 - val_loss: 0.0957 - val_accuracy: 0.9767\n",
            "Epoch 4/150\n",
            "949/949 [==============================] - 1s 2ms/step - loss: 0.1044 - accuracy: 0.9744 - val_loss: 0.0950 - val_accuracy: 0.9767\n",
            "Epoch 5/150\n",
            "949/949 [==============================] - 1s 2ms/step - loss: 0.1091 - accuracy: 0.9734 - val_loss: 0.0948 - val_accuracy: 0.9767\n",
            "Epoch 6/150\n",
            "949/949 [==============================] - 1s 1ms/step - loss: 0.0950 - accuracy: 0.9779 - val_loss: 0.0948 - val_accuracy: 0.9767\n",
            "Epoch 7/150\n",
            "949/949 [==============================] - 1s 2ms/step - loss: 0.0986 - accuracy: 0.9759 - val_loss: 0.0948 - val_accuracy: 0.9767\n",
            "Epoch 8/150\n",
            "949/949 [==============================] - 2s 2ms/step - loss: 0.1089 - accuracy: 0.9734 - val_loss: 0.0947 - val_accuracy: 0.9767\n",
            "Epoch 9/150\n",
            "949/949 [==============================] - 2s 2ms/step - loss: 0.1013 - accuracy: 0.9757 - val_loss: 0.0945 - val_accuracy: 0.9767\n",
            "Epoch 10/150\n",
            "949/949 [==============================] - 2s 2ms/step - loss: 0.0996 - accuracy: 0.9751 - val_loss: 0.0943 - val_accuracy: 0.9767\n",
            "Epoch 11/150\n",
            "949/949 [==============================] - 2s 2ms/step - loss: 0.0938 - accuracy: 0.9762 - val_loss: 0.0944 - val_accuracy: 0.9767\n",
            "Epoch 12/150\n",
            "949/949 [==============================] - 2s 2ms/step - loss: 0.0934 - accuracy: 0.9771 - val_loss: 0.0945 - val_accuracy: 0.9767\n",
            "Epoch 13/150\n",
            "949/949 [==============================] - 2s 2ms/step - loss: 0.0991 - accuracy: 0.9754 - val_loss: 0.0943 - val_accuracy: 0.9767\n",
            "Epoch 14/150\n",
            "949/949 [==============================] - 2s 2ms/step - loss: 0.1018 - accuracy: 0.9758 - val_loss: 0.0943 - val_accuracy: 0.9767\n",
            "Epoch 15/150\n",
            "949/949 [==============================] - 2s 2ms/step - loss: 0.1052 - accuracy: 0.9742 - val_loss: 0.0943 - val_accuracy: 0.9767\n",
            "Epoch 16/150\n",
            "949/949 [==============================] - 1s 2ms/step - loss: 0.1055 - accuracy: 0.9732 - val_loss: 0.0946 - val_accuracy: 0.9767\n",
            "Epoch 17/150\n",
            "949/949 [==============================] - 2s 2ms/step - loss: 0.1068 - accuracy: 0.9735 - val_loss: 0.0944 - val_accuracy: 0.9767\n",
            "Epoch 18/150\n",
            "949/949 [==============================] - 2s 2ms/step - loss: 0.0996 - accuracy: 0.9749 - val_loss: 0.0944 - val_accuracy: 0.9767\n",
            "Epoch 19/150\n",
            "949/949 [==============================] - 2s 2ms/step - loss: 0.1008 - accuracy: 0.9761 - val_loss: 0.0948 - val_accuracy: 0.9767\n",
            "Epoch 20/150\n",
            "949/949 [==============================] - 1s 1ms/step - loss: 0.0933 - accuracy: 0.9773 - val_loss: 0.0942 - val_accuracy: 0.9767\n",
            "Epoch 21/150\n",
            "949/949 [==============================] - 2s 2ms/step - loss: 0.1100 - accuracy: 0.9717 - val_loss: 0.0943 - val_accuracy: 0.9767\n",
            "Epoch 22/150\n",
            "949/949 [==============================] - 1s 2ms/step - loss: 0.1022 - accuracy: 0.9746 - val_loss: 0.0946 - val_accuracy: 0.9767\n",
            "Epoch 23/150\n",
            "949/949 [==============================] - 2s 2ms/step - loss: 0.1015 - accuracy: 0.9755 - val_loss: 0.0943 - val_accuracy: 0.9767\n",
            "Epoch 24/150\n",
            "949/949 [==============================] - 1s 1ms/step - loss: 0.0986 - accuracy: 0.9767 - val_loss: 0.0942 - val_accuracy: 0.9767\n",
            "Epoch 25/150\n",
            "949/949 [==============================] - 1s 2ms/step - loss: 0.0989 - accuracy: 0.9759 - val_loss: 0.0943 - val_accuracy: 0.9767\n",
            "Epoch 26/150\n",
            "949/949 [==============================] - 2s 2ms/step - loss: 0.0999 - accuracy: 0.9748 - val_loss: 0.0948 - val_accuracy: 0.9767\n",
            "Epoch 27/150\n",
            "949/949 [==============================] - 2s 2ms/step - loss: 0.1027 - accuracy: 0.9738 - val_loss: 0.0943 - val_accuracy: 0.9767\n",
            "Epoch 28/150\n",
            "949/949 [==============================] - 2s 2ms/step - loss: 0.1131 - accuracy: 0.9719 - val_loss: 0.0944 - val_accuracy: 0.9767\n",
            "Epoch 29/150\n",
            "949/949 [==============================] - 2s 2ms/step - loss: 0.0955 - accuracy: 0.9773 - val_loss: 0.0945 - val_accuracy: 0.9767\n",
            "Epoch 30/150\n",
            "949/949 [==============================] - 2s 2ms/step - loss: 0.1112 - accuracy: 0.9717 - val_loss: 0.0943 - val_accuracy: 0.9767\n",
            "Epoch 31/150\n",
            "949/949 [==============================] - 1s 2ms/step - loss: 0.1069 - accuracy: 0.9723 - val_loss: 0.0946 - val_accuracy: 0.9767\n",
            "Epoch 32/150\n",
            "949/949 [==============================] - 1s 2ms/step - loss: 0.1056 - accuracy: 0.9741 - val_loss: 0.0942 - val_accuracy: 0.9767\n",
            "Epoch 33/150\n",
            "949/949 [==============================] - 1s 2ms/step - loss: 0.0996 - accuracy: 0.9744 - val_loss: 0.0949 - val_accuracy: 0.9767\n",
            "Epoch 34/150\n",
            "949/949 [==============================] - 1s 2ms/step - loss: 0.1018 - accuracy: 0.9748 - val_loss: 0.0943 - val_accuracy: 0.9767\n",
            "Epoch 35/150\n",
            "949/949 [==============================] - 1s 1ms/step - loss: 0.0988 - accuracy: 0.9756 - val_loss: 0.0947 - val_accuracy: 0.9767\n",
            "Epoch 36/150\n",
            "949/949 [==============================] - 1s 1ms/step - loss: 0.0986 - accuracy: 0.9756 - val_loss: 0.0943 - val_accuracy: 0.9767\n",
            "Epoch 37/150\n",
            "949/949 [==============================] - 1s 1ms/step - loss: 0.0980 - accuracy: 0.9751 - val_loss: 0.0945 - val_accuracy: 0.9767\n",
            "Epoch 38/150\n",
            "949/949 [==============================] - 1s 1ms/step - loss: 0.1030 - accuracy: 0.9751 - val_loss: 0.0944 - val_accuracy: 0.9767\n",
            "Epoch 39/150\n",
            "949/949 [==============================] - 1s 1ms/step - loss: 0.1148 - accuracy: 0.9702 - val_loss: 0.0944 - val_accuracy: 0.9767\n",
            "Epoch 40/150\n",
            "949/949 [==============================] - 2s 2ms/step - loss: 0.0960 - accuracy: 0.9760 - val_loss: 0.0943 - val_accuracy: 0.9767\n",
            "Epoch 41/150\n",
            "949/949 [==============================] - 2s 2ms/step - loss: 0.0992 - accuracy: 0.9757 - val_loss: 0.0945 - val_accuracy: 0.9767\n",
            "Epoch 42/150\n",
            "949/949 [==============================] - 2s 2ms/step - loss: 0.1020 - accuracy: 0.9745 - val_loss: 0.0944 - val_accuracy: 0.9767\n",
            "Epoch 43/150\n",
            "949/949 [==============================] - 2s 2ms/step - loss: 0.1028 - accuracy: 0.9750 - val_loss: 0.0942 - val_accuracy: 0.9767\n",
            "Epoch 44/150\n",
            "949/949 [==============================] - 1s 1ms/step - loss: 0.1021 - accuracy: 0.9744 - val_loss: 0.0946 - val_accuracy: 0.9767\n",
            "Epoch 45/150\n",
            "949/949 [==============================] - 1s 1ms/step - loss: 0.0973 - accuracy: 0.9764 - val_loss: 0.0943 - val_accuracy: 0.9767\n",
            "Epoch 46/150\n",
            "949/949 [==============================] - 2s 2ms/step - loss: 0.0942 - accuracy: 0.9764 - val_loss: 0.0944 - val_accuracy: 0.9767\n",
            "Epoch 47/150\n",
            "949/949 [==============================] - 1s 2ms/step - loss: 0.1048 - accuracy: 0.9749 - val_loss: 0.0942 - val_accuracy: 0.9767\n",
            "Epoch 48/150\n",
            "949/949 [==============================] - 1s 1ms/step - loss: 0.1007 - accuracy: 0.9754 - val_loss: 0.0943 - val_accuracy: 0.9767\n",
            "Epoch 49/150\n",
            "949/949 [==============================] - 1s 2ms/step - loss: 0.0990 - accuracy: 0.9754 - val_loss: 0.0943 - val_accuracy: 0.9767\n",
            "Epoch 50/150\n",
            "949/949 [==============================] - 1s 2ms/step - loss: 0.0995 - accuracy: 0.9763 - val_loss: 0.0943 - val_accuracy: 0.9767\n",
            "Epoch 51/150\n",
            "949/949 [==============================] - 1s 2ms/step - loss: 0.0975 - accuracy: 0.9761 - val_loss: 0.0944 - val_accuracy: 0.9767\n",
            "Epoch 52/150\n",
            "949/949 [==============================] - 1s 2ms/step - loss: 0.1067 - accuracy: 0.9718 - val_loss: 0.0946 - val_accuracy: 0.9767\n",
            "Epoch 53/150\n",
            "949/949 [==============================] - 1s 2ms/step - loss: 0.0934 - accuracy: 0.9769 - val_loss: 0.0944 - val_accuracy: 0.9767\n",
            "Epoch 54/150\n",
            "949/949 [==============================] - 1s 2ms/step - loss: 0.1070 - accuracy: 0.9724 - val_loss: 0.0944 - val_accuracy: 0.9767\n",
            "Epoch 55/150\n",
            "949/949 [==============================] - 2s 2ms/step - loss: 0.1037 - accuracy: 0.9734 - val_loss: 0.0943 - val_accuracy: 0.9767\n",
            "Epoch 56/150\n",
            "949/949 [==============================] - 1s 2ms/step - loss: 0.1094 - accuracy: 0.9737 - val_loss: 0.0942 - val_accuracy: 0.9767\n",
            "Epoch 57/150\n",
            "949/949 [==============================] - 1s 2ms/step - loss: 0.1025 - accuracy: 0.9753 - val_loss: 0.0942 - val_accuracy: 0.9767\n",
            "Epoch 58/150\n",
            "949/949 [==============================] - 2s 2ms/step - loss: 0.1006 - accuracy: 0.9754 - val_loss: 0.0943 - val_accuracy: 0.9767\n",
            "Epoch 59/150\n",
            "949/949 [==============================] - 1s 2ms/step - loss: 0.1130 - accuracy: 0.9712 - val_loss: 0.0946 - val_accuracy: 0.9767\n",
            "Epoch 60/150\n",
            "949/949 [==============================] - 1s 2ms/step - loss: 0.1043 - accuracy: 0.9740 - val_loss: 0.0942 - val_accuracy: 0.9767\n",
            "Epoch 61/150\n",
            "949/949 [==============================] - 2s 2ms/step - loss: 0.1014 - accuracy: 0.9753 - val_loss: 0.0943 - val_accuracy: 0.9767\n",
            "Epoch 62/150\n",
            "949/949 [==============================] - 2s 2ms/step - loss: 0.0945 - accuracy: 0.9766 - val_loss: 0.0943 - val_accuracy: 0.9767\n",
            "Epoch 63/150\n",
            "949/949 [==============================] - 2s 2ms/step - loss: 0.0891 - accuracy: 0.9790 - val_loss: 0.0946 - val_accuracy: 0.9767\n",
            "Epoch 64/150\n",
            "949/949 [==============================] - 2s 2ms/step - loss: 0.1076 - accuracy: 0.9727 - val_loss: 0.0943 - val_accuracy: 0.9767\n",
            "Epoch 65/150\n",
            "949/949 [==============================] - 2s 2ms/step - loss: 0.1081 - accuracy: 0.9718 - val_loss: 0.0944 - val_accuracy: 0.9767\n",
            "Epoch 66/150\n",
            "949/949 [==============================] - 2s 2ms/step - loss: 0.1051 - accuracy: 0.9746 - val_loss: 0.0943 - val_accuracy: 0.9767\n",
            "Epoch 67/150\n",
            "949/949 [==============================] - 2s 2ms/step - loss: 0.1023 - accuracy: 0.9753 - val_loss: 0.0942 - val_accuracy: 0.9767\n",
            "Epoch 68/150\n",
            "949/949 [==============================] - 2s 2ms/step - loss: 0.0986 - accuracy: 0.9756 - val_loss: 0.0943 - val_accuracy: 0.9767\n",
            "Epoch 69/150\n",
            "949/949 [==============================] - 2s 2ms/step - loss: 0.0985 - accuracy: 0.9754 - val_loss: 0.0943 - val_accuracy: 0.9767\n",
            "Epoch 70/150\n",
            "949/949 [==============================] - 2s 2ms/step - loss: 0.0966 - accuracy: 0.9768 - val_loss: 0.0943 - val_accuracy: 0.9767\n",
            "Epoch 71/150\n",
            "949/949 [==============================] - 2s 2ms/step - loss: 0.1047 - accuracy: 0.9742 - val_loss: 0.0943 - val_accuracy: 0.9767\n",
            "Epoch 72/150\n",
            "949/949 [==============================] - 2s 2ms/step - loss: 0.0997 - accuracy: 0.9753 - val_loss: 0.0942 - val_accuracy: 0.9767\n",
            "Epoch 73/150\n",
            "949/949 [==============================] - 2s 2ms/step - loss: 0.0946 - accuracy: 0.9766 - val_loss: 0.0942 - val_accuracy: 0.9767\n",
            "Epoch 74/150\n",
            "949/949 [==============================] - 2s 2ms/step - loss: 0.1049 - accuracy: 0.9739 - val_loss: 0.0943 - val_accuracy: 0.9767\n",
            "Epoch 75/150\n",
            "949/949 [==============================] - 1s 2ms/step - loss: 0.1058 - accuracy: 0.9736 - val_loss: 0.0947 - val_accuracy: 0.9767\n",
            "Epoch 76/150\n",
            "949/949 [==============================] - 2s 2ms/step - loss: 0.0992 - accuracy: 0.9766 - val_loss: 0.0943 - val_accuracy: 0.9767\n",
            "Epoch 77/150\n",
            "949/949 [==============================] - 2s 2ms/step - loss: 0.0995 - accuracy: 0.9760 - val_loss: 0.0946 - val_accuracy: 0.9767\n",
            "Epoch 78/150\n",
            "949/949 [==============================] - 2s 2ms/step - loss: 0.0920 - accuracy: 0.9772 - val_loss: 0.0945 - val_accuracy: 0.9767\n",
            "Epoch 79/150\n",
            "949/949 [==============================] - 2s 2ms/step - loss: 0.1000 - accuracy: 0.9751 - val_loss: 0.0946 - val_accuracy: 0.9767\n",
            "Epoch 80/150\n",
            "949/949 [==============================] - 2s 2ms/step - loss: 0.1017 - accuracy: 0.9750 - val_loss: 0.0944 - val_accuracy: 0.9767\n",
            "Epoch 81/150\n",
            "949/949 [==============================] - 2s 2ms/step - loss: 0.1055 - accuracy: 0.9730 - val_loss: 0.0943 - val_accuracy: 0.9767\n",
            "Epoch 82/150\n",
            "949/949 [==============================] - 2s 2ms/step - loss: 0.1038 - accuracy: 0.9748 - val_loss: 0.0948 - val_accuracy: 0.9767\n",
            "Epoch 83/150\n",
            "949/949 [==============================] - 2s 2ms/step - loss: 0.0991 - accuracy: 0.9750 - val_loss: 0.0943 - val_accuracy: 0.9767\n",
            "Epoch 84/150\n",
            "949/949 [==============================] - 2s 2ms/step - loss: 0.1036 - accuracy: 0.9749 - val_loss: 0.0944 - val_accuracy: 0.9767\n",
            "Epoch 85/150\n",
            "949/949 [==============================] - 2s 2ms/step - loss: 0.0997 - accuracy: 0.9753 - val_loss: 0.0943 - val_accuracy: 0.9767\n",
            "Epoch 86/150\n",
            "949/949 [==============================] - 1s 2ms/step - loss: 0.0983 - accuracy: 0.9762 - val_loss: 0.0943 - val_accuracy: 0.9767\n",
            "Epoch 87/150\n",
            "949/949 [==============================] - 2s 2ms/step - loss: 0.0963 - accuracy: 0.9768 - val_loss: 0.0945 - val_accuracy: 0.9767\n",
            "Epoch 88/150\n",
            "949/949 [==============================] - 2s 2ms/step - loss: 0.0964 - accuracy: 0.9768 - val_loss: 0.0943 - val_accuracy: 0.9767\n",
            "Epoch 89/150\n",
            "949/949 [==============================] - 2s 2ms/step - loss: 0.0998 - accuracy: 0.9760 - val_loss: 0.0944 - val_accuracy: 0.9767\n",
            "Epoch 90/150\n",
            "949/949 [==============================] - 2s 2ms/step - loss: 0.1013 - accuracy: 0.9741 - val_loss: 0.0943 - val_accuracy: 0.9767\n",
            "Epoch 91/150\n",
            "949/949 [==============================] - 2s 2ms/step - loss: 0.1003 - accuracy: 0.9759 - val_loss: 0.0943 - val_accuracy: 0.9767\n",
            "Epoch 92/150\n",
            "949/949 [==============================] - 2s 2ms/step - loss: 0.0993 - accuracy: 0.9748 - val_loss: 0.0948 - val_accuracy: 0.9767\n",
            "Epoch 93/150\n",
            "949/949 [==============================] - 2s 2ms/step - loss: 0.1009 - accuracy: 0.9741 - val_loss: 0.0943 - val_accuracy: 0.9767\n",
            "Epoch 94/150\n",
            "949/949 [==============================] - 2s 2ms/step - loss: 0.1029 - accuracy: 0.9743 - val_loss: 0.0946 - val_accuracy: 0.9767\n",
            "Epoch 95/150\n",
            "949/949 [==============================] - 2s 2ms/step - loss: 0.1052 - accuracy: 0.9742 - val_loss: 0.0944 - val_accuracy: 0.9767\n",
            "Epoch 96/150\n",
            "949/949 [==============================] - 2s 2ms/step - loss: 0.0944 - accuracy: 0.9764 - val_loss: 0.0944 - val_accuracy: 0.9767\n",
            "Epoch 97/150\n",
            "949/949 [==============================] - 2s 2ms/step - loss: 0.0948 - accuracy: 0.9765 - val_loss: 0.0944 - val_accuracy: 0.9767\n",
            "Epoch 98/150\n",
            "949/949 [==============================] - 2s 2ms/step - loss: 0.1018 - accuracy: 0.9756 - val_loss: 0.0942 - val_accuracy: 0.9767\n",
            "Epoch 99/150\n",
            "949/949 [==============================] - 2s 2ms/step - loss: 0.1024 - accuracy: 0.9738 - val_loss: 0.0943 - val_accuracy: 0.9767\n",
            "Epoch 100/150\n",
            "949/949 [==============================] - 1s 2ms/step - loss: 0.1009 - accuracy: 0.9749 - val_loss: 0.0943 - val_accuracy: 0.9767\n",
            "Epoch 101/150\n",
            "949/949 [==============================] - 2s 2ms/step - loss: 0.1016 - accuracy: 0.9756 - val_loss: 0.0943 - val_accuracy: 0.9767\n",
            "Epoch 102/150\n",
            "949/949 [==============================] - 1s 2ms/step - loss: 0.0956 - accuracy: 0.9764 - val_loss: 0.0942 - val_accuracy: 0.9767\n",
            "Epoch 103/150\n",
            "949/949 [==============================] - 2s 2ms/step - loss: 0.1012 - accuracy: 0.9728 - val_loss: 0.0943 - val_accuracy: 0.9767\n",
            "Epoch 104/150\n",
            "949/949 [==============================] - 2s 2ms/step - loss: 0.1046 - accuracy: 0.9736 - val_loss: 0.0944 - val_accuracy: 0.9767\n",
            "Epoch 105/150\n",
            "949/949 [==============================] - 2s 2ms/step - loss: 0.1125 - accuracy: 0.9720 - val_loss: 0.0943 - val_accuracy: 0.9767\n",
            "Epoch 106/150\n",
            "949/949 [==============================] - 2s 2ms/step - loss: 0.1044 - accuracy: 0.9735 - val_loss: 0.0944 - val_accuracy: 0.9767\n",
            "Epoch 107/150\n",
            "949/949 [==============================] - 2s 2ms/step - loss: 0.1024 - accuracy: 0.9744 - val_loss: 0.0944 - val_accuracy: 0.9767\n",
            "Epoch 108/150\n",
            "949/949 [==============================] - 2s 2ms/step - loss: 0.1010 - accuracy: 0.9746 - val_loss: 0.0943 - val_accuracy: 0.9767\n",
            "Epoch 109/150\n",
            "949/949 [==============================] - 2s 2ms/step - loss: 0.1040 - accuracy: 0.9732 - val_loss: 0.0943 - val_accuracy: 0.9767\n",
            "Epoch 110/150\n",
            "949/949 [==============================] - 2s 2ms/step - loss: 0.0967 - accuracy: 0.9766 - val_loss: 0.0946 - val_accuracy: 0.9767\n",
            "Epoch 111/150\n",
            "949/949 [==============================] - 2s 2ms/step - loss: 0.1011 - accuracy: 0.9760 - val_loss: 0.0946 - val_accuracy: 0.9767\n",
            "Epoch 112/150\n",
            "949/949 [==============================] - 2s 2ms/step - loss: 0.1035 - accuracy: 0.9738 - val_loss: 0.0942 - val_accuracy: 0.9767\n",
            "Epoch 113/150\n",
            "949/949 [==============================] - 2s 2ms/step - loss: 0.1120 - accuracy: 0.9733 - val_loss: 0.0943 - val_accuracy: 0.9767\n",
            "Epoch 114/150\n",
            "949/949 [==============================] - 2s 2ms/step - loss: 0.1077 - accuracy: 0.9731 - val_loss: 0.0942 - val_accuracy: 0.9767\n",
            "Epoch 115/150\n",
            "949/949 [==============================] - 2s 2ms/step - loss: 0.1068 - accuracy: 0.9736 - val_loss: 0.0950 - val_accuracy: 0.9767\n",
            "Epoch 116/150\n",
            "949/949 [==============================] - 2s 2ms/step - loss: 0.1015 - accuracy: 0.9752 - val_loss: 0.0942 - val_accuracy: 0.9767\n",
            "Epoch 117/150\n",
            "949/949 [==============================] - 2s 2ms/step - loss: 0.0968 - accuracy: 0.9758 - val_loss: 0.0943 - val_accuracy: 0.9767\n",
            "Epoch 118/150\n",
            "949/949 [==============================] - 2s 2ms/step - loss: 0.0993 - accuracy: 0.9754 - val_loss: 0.0943 - val_accuracy: 0.9767\n",
            "Epoch 119/150\n",
            "949/949 [==============================] - 2s 2ms/step - loss: 0.0984 - accuracy: 0.9756 - val_loss: 0.0946 - val_accuracy: 0.9767\n",
            "Epoch 120/150\n",
            "949/949 [==============================] - 2s 2ms/step - loss: 0.1052 - accuracy: 0.9730 - val_loss: 0.0945 - val_accuracy: 0.9767\n",
            "Epoch 121/150\n",
            "949/949 [==============================] - 2s 2ms/step - loss: 0.1054 - accuracy: 0.9734 - val_loss: 0.0948 - val_accuracy: 0.9767\n",
            "Epoch 122/150\n",
            "949/949 [==============================] - 2s 2ms/step - loss: 0.1022 - accuracy: 0.9748 - val_loss: 0.0942 - val_accuracy: 0.9767\n",
            "Epoch 123/150\n",
            "949/949 [==============================] - 2s 2ms/step - loss: 0.1079 - accuracy: 0.9728 - val_loss: 0.0945 - val_accuracy: 0.9767\n",
            "Epoch 124/150\n",
            "949/949 [==============================] - 2s 2ms/step - loss: 0.0867 - accuracy: 0.9796 - val_loss: 0.0956 - val_accuracy: 0.9767\n",
            "Epoch 125/150\n",
            "949/949 [==============================] - 2s 2ms/step - loss: 0.1024 - accuracy: 0.9743 - val_loss: 0.0944 - val_accuracy: 0.9767\n",
            "Epoch 126/150\n",
            "949/949 [==============================] - 1s 2ms/step - loss: 0.1015 - accuracy: 0.9746 - val_loss: 0.0946 - val_accuracy: 0.9767\n",
            "Epoch 127/150\n",
            "949/949 [==============================] - 2s 2ms/step - loss: 0.0899 - accuracy: 0.9770 - val_loss: 0.0943 - val_accuracy: 0.9767\n",
            "Epoch 128/150\n",
            "949/949 [==============================] - 2s 2ms/step - loss: 0.0932 - accuracy: 0.9770 - val_loss: 0.0942 - val_accuracy: 0.9767\n",
            "Epoch 129/150\n",
            "949/949 [==============================] - 2s 2ms/step - loss: 0.1008 - accuracy: 0.9754 - val_loss: 0.0942 - val_accuracy: 0.9767\n",
            "Epoch 130/150\n",
            "949/949 [==============================] - 2s 2ms/step - loss: 0.0962 - accuracy: 0.9765 - val_loss: 0.0947 - val_accuracy: 0.9767\n",
            "Epoch 131/150\n",
            "949/949 [==============================] - 1s 2ms/step - loss: 0.1034 - accuracy: 0.9736 - val_loss: 0.0945 - val_accuracy: 0.9767\n",
            "Epoch 132/150\n",
            "949/949 [==============================] - 2s 2ms/step - loss: 0.1021 - accuracy: 0.9750 - val_loss: 0.0943 - val_accuracy: 0.9767\n",
            "Epoch 133/150\n",
            "949/949 [==============================] - 2s 2ms/step - loss: 0.1066 - accuracy: 0.9731 - val_loss: 0.0943 - val_accuracy: 0.9767\n",
            "Epoch 134/150\n",
            "949/949 [==============================] - 2s 2ms/step - loss: 0.0983 - accuracy: 0.9755 - val_loss: 0.0944 - val_accuracy: 0.9767\n",
            "Epoch 135/150\n",
            "949/949 [==============================] - 1s 2ms/step - loss: 0.1017 - accuracy: 0.9748 - val_loss: 0.0943 - val_accuracy: 0.9767\n",
            "Epoch 136/150\n",
            "949/949 [==============================] - 2s 2ms/step - loss: 0.0976 - accuracy: 0.9757 - val_loss: 0.0948 - val_accuracy: 0.9767\n",
            "Epoch 137/150\n",
            "949/949 [==============================] - 1s 2ms/step - loss: 0.0946 - accuracy: 0.9769 - val_loss: 0.0947 - val_accuracy: 0.9767\n",
            "Epoch 138/150\n",
            "949/949 [==============================] - 2s 2ms/step - loss: 0.1104 - accuracy: 0.9732 - val_loss: 0.0943 - val_accuracy: 0.9767\n",
            "Epoch 139/150\n",
            "949/949 [==============================] - 2s 2ms/step - loss: 0.1056 - accuracy: 0.9735 - val_loss: 0.0945 - val_accuracy: 0.9767\n",
            "Epoch 140/150\n",
            "949/949 [==============================] - 2s 2ms/step - loss: 0.1003 - accuracy: 0.9764 - val_loss: 0.0942 - val_accuracy: 0.9767\n",
            "Epoch 141/150\n",
            "949/949 [==============================] - 1s 2ms/step - loss: 0.1006 - accuracy: 0.9742 - val_loss: 0.0944 - val_accuracy: 0.9767\n",
            "Epoch 142/150\n",
            "949/949 [==============================] - 1s 2ms/step - loss: 0.1037 - accuracy: 0.9746 - val_loss: 0.0942 - val_accuracy: 0.9767\n",
            "Epoch 143/150\n",
            "949/949 [==============================] - 2s 2ms/step - loss: 0.1057 - accuracy: 0.9744 - val_loss: 0.0942 - val_accuracy: 0.9767\n",
            "Epoch 144/150\n",
            "949/949 [==============================] - 2s 2ms/step - loss: 0.1093 - accuracy: 0.9730 - val_loss: 0.0943 - val_accuracy: 0.9767\n",
            "Epoch 145/150\n",
            "949/949 [==============================] - 2s 2ms/step - loss: 0.1024 - accuracy: 0.9743 - val_loss: 0.0943 - val_accuracy: 0.9767\n",
            "Epoch 146/150\n",
            "949/949 [==============================] - 2s 2ms/step - loss: 0.0881 - accuracy: 0.9790 - val_loss: 0.0945 - val_accuracy: 0.9767\n",
            "Epoch 147/150\n",
            "949/949 [==============================] - 2s 2ms/step - loss: 0.0993 - accuracy: 0.9754 - val_loss: 0.0945 - val_accuracy: 0.9767\n",
            "Epoch 148/150\n",
            "949/949 [==============================] - 2s 2ms/step - loss: 0.1051 - accuracy: 0.9749 - val_loss: 0.0942 - val_accuracy: 0.9767\n",
            "Epoch 149/150\n",
            "949/949 [==============================] - 2s 2ms/step - loss: 0.0992 - accuracy: 0.9751 - val_loss: 0.0944 - val_accuracy: 0.9767\n",
            "Epoch 150/150\n",
            "949/949 [==============================] - 2s 2ms/step - loss: 0.0935 - accuracy: 0.9780 - val_loss: 0.0943 - val_accuracy: 0.9767\n",
            "dict_keys(['loss', 'accuracy', 'val_loss', 'val_accuracy'])\n"
          ],
          "name": "stdout"
        },
        {
          "output_type": "display_data",
          "data": {
            "image/png": "[encoded data removed]",
            "text/plain": [
              "<Figure size 432x288 with 1 Axes>"
            ]
          },
          "metadata": {
            "tags": [],
            "needs_background": "light"
          }
        },
        {
          "output_type": "stream",
          "text": [
            "dict_keys(['loss', 'accuracy', 'val_loss', 'val_accuracy'])\n"
          ],
          "name": "stdout"
        },
        {
          "output_type": "display_data",
          "data": {
            "image/png": "[encoded data removed]",
            "text/plain": [
              "<Figure size 432x288 with 1 Axes>"
            ]
          },
          "metadata": {
            "tags": [],
            "needs_background": "light"
          }
        }
      ]
    },
    {
      "cell_type": "code",
      "metadata": {
        "colab": {
          "base_uri": "https://localhost:8080/",
          "height": 229
        },
        "id": "dRo4LZWP2jRk",
        "outputId": "85105b56-9a1e-42d2-fcdf-d99165d13bb6"
      },
      "source": [
        "from sklearn.neural_network import MLPClassifier\n",
        "X_train, X_test, y_train, y_test = train_test_split(Data_X, Data_Y)\n",
        "clf = MLPClassifier(solver='lbfgs', alpha=1e-5, hidden_layer_sizes=(15,), random_state=1)\n",
        "\n",
        "history=clf.fit(X_train.reshape(-1, 1),y_train)\n",
        "# Compile model\n",
        "model.compile(loss= 'binary_crossentropy' , optimizer= 'adam' , metrics=[ 'accuracy' ])\n",
        "\n",
        "import matplotlib.pyplot as plt\n",
        "print(history.history.keys())\n",
        "# summarize history for accuracy\n",
        "plt.plot(history.history[ 'accuracy' ])\n",
        "plt.plot(history.history[ 'val_accuracy' ])\n",
        "plt.title( 'model accuracy' )\n",
        "plt.ylabel( 'accuracy' )\n",
        "plt.xlabel( 'epoch' )\n",
        "plt.legend([ 'train' , 'test' ], loc= 'lower right' )\n",
        "plt.show()\n",
        "\n",
        "import matplotlib.pyplot as plt\n",
        "print(history.history.keys())\n",
        "# summarize history for accuracy\n",
        "plt.plot(history.history[ 'loss' ])\n",
        "plt.plot(history.history[ 'val_loss' ])\n",
        "plt.title( 'model loss' )\n",
        "plt.ylabel( 'loss' )\n",
        "plt.xlabel( 'epoch' )\n",
        "plt.legend([ 'train' , 'test' ], loc= 'upper left' )\n",
        "plt.show()\n",
        "# MLPClassifier(alpha=1e-05, hidden_layer_sizes=(5, 2), random_state=1,\n",
        "#               solver='lbfgs')"
      ],
      "execution_count": null,
      "outputs": [
        {
          "output_type": "error",
          "ename": "AttributeError",
          "evalue": "ignored",
          "traceback": [
            "\u001b[0;31m---------------------------------------------------------------------------\u001b[0m",
            "\u001b[0;31mAttributeError\u001b[0m                            Traceback (most recent call last)",
            "\u001b[0;32m<ipython-input-37-344de911bfa1>\u001b[0m in \u001b[0;36m<module>\u001b[0;34m()\u001b[0m\n\u001b[1;32m      8\u001b[0m \u001b[0;34m\u001b[0m\u001b[0m\n\u001b[1;32m      9\u001b[0m \u001b[0;32mimport\u001b[0m \u001b[0mmatplotlib\u001b[0m\u001b[0;34m.\u001b[0m\u001b[0mpyplot\u001b[0m \u001b[0;32mas\u001b[0m \u001b[0mplt\u001b[0m\u001b[0;34m\u001b[0m\u001b[0;34m\u001b[0m\u001b[0m\n\u001b[0;32m---> 10\u001b[0;31m \u001b[0mprint\u001b[0m\u001b[0;34m(\u001b[0m\u001b[0mhistory\u001b[0m\u001b[0;34m.\u001b[0m\u001b[0mhistory\u001b[0m\u001b[0;34m.\u001b[0m\u001b[0mkeys\u001b[0m\u001b[0;34m(\u001b[0m\u001b[0;34m)\u001b[0m\u001b[0;34m)\u001b[0m\u001b[0;34m\u001b[0m\u001b[0;34m\u001b[0m\u001b[0m\n\u001b[0m\u001b[1;32m     11\u001b[0m \u001b[0;31m# summarize history for accuracy\u001b[0m\u001b[0;34m\u001b[0m\u001b[0;34m\u001b[0m\u001b[0;34m\u001b[0m\u001b[0m\n\u001b[1;32m     12\u001b[0m \u001b[0mplt\u001b[0m\u001b[0;34m.\u001b[0m\u001b[0mplot\u001b[0m\u001b[0;34m(\u001b[0m\u001b[0mhistory\u001b[0m\u001b[0;34m.\u001b[0m\u001b[0mhistory\u001b[0m\u001b[0;34m[\u001b[0m \u001b[0;34m'accuracy'\u001b[0m \u001b[0;34m]\u001b[0m\u001b[0;34m)\u001b[0m\u001b[0;34m\u001b[0m\u001b[0;34m\u001b[0m\u001b[0m\n",
            "\u001b[0;31mAttributeError\u001b[0m: 'MLPClassifier' object has no attribute 'history'"
          ]
        }
      ]
    },
    {
      "cell_type": "code",
      "metadata": {
        "id": "-ykVQh3U3eRQ",
        "colab": {
          "base_uri": "https://localhost:8080/"
        },
        "outputId": "4b406f46-ec4d-4c25-a54d-e48de4cd6bf4"
      },
      "source": [
        "y_pred = model.predict([10])\n",
        "print(y_pred)"
      ],
      "execution_count": null,
      "outputs": [
        {
          "output_type": "stream",
          "text": [
            "[[0.34390575]]\n"
          ],
          "name": "stdout"
        }
      ]
    },
    {
      "cell_type": "code",
      "metadata": {
        "colab": {
          "base_uri": "https://localhost:8080/"
        },
        "id": "3nv4u6HC3gUX",
        "outputId": "2b394c01-6d56-49a5-fdb9-f2a6a4fb831e"
      },
      "source": [
        "  P=precision_score(y_test, y_pred, average='weighted')\n",
        "  P2=recall_score(y_test, y_pred, average='weighted')\n",
        "  P3=metrics.accuracy_score(y_test,y_pred)"
      ],
      "execution_count": null,
      "outputs": [
        {
          "output_type": "stream",
          "text": [
            "/usr/local/lib/python3.7/dist-packages/sklearn/metrics/_classification.py:1272: UndefinedMetricWarning: Precision is ill-defined and being set to 0.0 in labels with no predicted samples. Use `zero_division` parameter to control this behavior.\n",
            "  _warn_prf(average, modifier, msg_start, len(result))\n"
          ],
          "name": "stderr"
        }
      ]
    },
    {
      "cell_type": "code",
      "metadata": {
        "colab": {
          "base_uri": "https://localhost:8080/"
        },
        "id": "gktzdrr_3jQ4",
        "outputId": "efd63e97-afee-4021-b638-e24db0116a35"
      },
      "source": [
        "print(\"********************************************************************\")\n",
        "print(\"\\n\\n\\nPrecision:\",P)\n",
        "print(\"\\n\\n\\nRecall:\",P2)\n",
        "print(\"\\n\\n\\nAccuracy:\",P3)\n",
        "print(\"********************************************************************\")"
      ],
      "execution_count": null,
      "outputs": [
        {
          "output_type": "stream",
          "text": [
            "********************************************************************\n",
            "\n",
            "\n",
            "\n",
            "Precision: 0.9421221418744125\n",
            "\n",
            "\n",
            "\n",
            "Recall: 0.970629765602937\n",
            "\n",
            "\n",
            "\n",
            "Accuracy: 0.970629765602937\n",
            "********************************************************************\n"
          ],
          "name": "stdout"
        }
      ]
    },
    {
      "cell_type": "markdown",
      "metadata": {
        "id": "1FQB78oBZ71m"
      },
      "source": [
        "Identify Node list"
      ]
    },
    {
      "cell_type": "code",
      "metadata": {
        "colab": {
          "base_uri": "https://localhost:8080/"
        },
        "id": "3poZvYlEx41e",
        "outputId": "28c86d75-df94-411f-e42e-c6b80a555dcf"
      },
      "source": [
        "import numpy as np\n",
        "a = pima_edge\n",
        "X=np.unique(a)\n",
        "X.shape"
      ],
      "execution_count": null,
      "outputs": [
        {
          "output_type": "execute_result",
          "data": {
            "text/plain": [
              "(119,)"
            ]
          },
          "metadata": {
            "tags": []
          },
          "execution_count": 11
        }
      ]
    },
    {
      "cell_type": "markdown",
      "metadata": {
        "id": "_XmfoB-hZ-ri"
      },
      "source": [
        "Reinforcement learning based Classification"
      ]
    },
    {
      "cell_type": "code",
      "metadata": {
        "id": "P_HcHeEcE4Ah"
      },
      "source": [
        "class ContextBandit:\n",
        "  def __init__(self, arms=J_Matrix.shape[0]):\n",
        "    self.arms = arms\n",
        "    self.init_distribution(arms)\n",
        "    self.update_state()\n",
        "  def init_distribution(self, arms):\n",
        "    self.bandit_matrix = J_Matrix\n",
        "    return self.bandit_matrix\n",
        "\n",
        "  def reward(self, prob):\n",
        "    reward = 0\n",
        "    for i in range(self.arms):\n",
        "      if random.random() < prob:\n",
        "        reward += 1\n",
        "    return reward\n",
        "  def get_state(self):\n",
        "    return self.state\n",
        "\n",
        "  def update_state(self):\n",
        "    self.state = np.random.randint(0,self.arms)\n",
        "  def get_reward(self,arm):\n",
        "    return self.reward(self.bandit_matrix[self.get_state()][arm])\n",
        "  def choose_arm(self, arm):\n",
        "    reward = self.get_reward(arm)\n",
        "    self.update_state()\n",
        "    return reward"
      ],
      "execution_count": null,
      "outputs": []
    },
    {
      "cell_type": "code",
      "metadata": {
        "id": "IWC4vno7E-Fp"
      },
      "source": [
        "a,b=pima_node.shape\n",
        "env = ContextBandit(arms=a)"
      ],
      "execution_count": null,
      "outputs": []
    },
    {
      "cell_type": "code",
      "metadata": {
        "colab": {
          "base_uri": "https://localhost:8080/"
        },
        "id": "iWnwCM7LbZhH",
        "outputId": "d2df0315-9798-42d8-fb27-75941c417bdc"
      },
      "source": [
        "import numpy as np\n",
        "from scipy import stats\n",
        "import random\n",
        "import matplotlib.pyplot as plt\n",
        "import torch as th\n",
        "n = 10\n",
        "probs = np.random.rand(n)\n",
        "eps = 0.2\n",
        "\n",
        "\n",
        "\n",
        "\n",
        "state = env.get_state()\n",
        "reward = env.choose_arm(100)\n",
        "\n",
        "print(state)\n",
        "print(reward)"
      ],
      "execution_count": null,
      "outputs": [
        {
          "output_type": "stream",
          "text": [
            "46\n",
            "0\n"
          ],
          "name": "stdout"
        }
      ]
    },
    {
      "cell_type": "code",
      "metadata": {
        "colab": {
          "base_uri": "https://localhost:8080/"
        },
        "id": "uH71r4bMcCyg",
        "outputId": "64911e02-f76c-47b2-90c3-0ac53387e7a7"
      },
      "source": [
        "from torch.autograd import Variable\n",
        "\n",
        "\n",
        "\n",
        "def softmax(av, tau=1.12):\n",
        "    n = len(av)\n",
        "    probs = np.zeros(n)\n",
        "    for i in range(n):\n",
        "        softm = ( np.exp(av[i] / tau) / np.sum( np.exp(av[:] / tau) ) )\n",
        "        probs[i] = softm\n",
        "    return probs\n",
        "\n",
        "def one_hot(N, pos, val=1):\n",
        "    one_hot_vec = np.zeros(N)\n",
        "    one_hot_vec[pos] = val\n",
        "    return one_hot_vec\n",
        "\n",
        "arms = J_Matrix.shape[0]\n",
        "# N is batch size; D_in is input dimension;\n",
        "# H is hidden dimension; D_out is output dimension.\n",
        "N, D_in, H, D_out = 1, arms, 100, arms\n",
        "\n",
        "model = th.nn.Sequential(\n",
        "    th.nn.Linear(D_in, H),\n",
        "    th.nn.ReLU(),\n",
        "    th.nn.Linear(H, D_out),\n",
        "    th.nn.ReLU(),\n",
        ")\n",
        "\n",
        "loss_fn = th.nn.MSELoss(size_average=False)\n",
        "\n",
        "env = ContextBandit(arms)\n",
        "\n",
        "def train(env):\n",
        "    epochs = 5000\n",
        "    #one-hot encode current state\n",
        "    cur_state = Variable(th.Tensor(one_hot(arms,env.get_state())))\n",
        "    reward_hist = np.zeros(50)\n",
        "    reward_hist[:] = 5\n",
        "    runningMean = np.average(reward_hist)\n",
        "    learning_rate = 1e-2\n",
        "    optimizer = th.optim.Adam(model.parameters(), lr=learning_rate)\n",
        "    plt.xlabel(\"Plays\")\n",
        "    plt.ylabel(\"Mean Reward\")\n",
        "    for i in range(epochs):\n",
        "        y_pred = model(cur_state) #produce reward predictions\n",
        "        av_softmax = softmax(y_pred.data.numpy(), tau=2.0) #turn reward distribution into probability distribution\n",
        "        av_softmax /= av_softmax.sum() #make sure total prob adds to 1\n",
        "        choice = np.random.choice(arms, p=av_softmax) #sample an action\n",
        "        cur_reward = env.choose_arm(choice)\n",
        "        one_hot_reward = y_pred.data.numpy().copy()\n",
        "        one_hot_reward[choice] = cur_reward\n",
        "        reward = Variable(th.Tensor(one_hot_reward))\n",
        "        loss = loss_fn(y_pred, reward)\n",
        "        if i % 50 == 0:\n",
        "            runningMean = np.average(reward_hist)\n",
        "            reward_hist[:] = 0\n",
        "            plt.scatter(i, runningMean)\n",
        "        reward_hist[i % 50] = cur_reward\n",
        "        optimizer.zero_grad()\n",
        "\n",
        "        # Backward pass: compute gradient of the loss with respect to model\n",
        "        # parameters\n",
        "        loss.backward()\n",
        "\n",
        "        # Calling the step function on an Optimizer makes an update to its\n",
        "        # parameters\n",
        "        optimizer.step()\n",
        "        cur_state = Variable(th.Tensor(one_hot(arms,env.get_state())))"
      ],
      "execution_count": null,
      "outputs": [
        {
          "output_type": "stream",
          "text": [
            "/usr/local/lib/python3.7/dist-packages/torch/nn/_reduction.py:42: UserWarning: size_average and reduce args will be deprecated, please use reduction='sum' instead.\n",
            "  warnings.warn(warning.format(ret))\n"
          ],
          "name": "stderr"
        }
      ]
    },
    {
      "cell_type": "code",
      "metadata": {
        "colab": {
          "base_uri": "https://localhost:8080/",
          "height": 279
        },
        "id": "-vr04RMRcGef",
        "outputId": "100811d1-3326-4f7c-cf50-c5bc61bba1d1"
      },
      "source": [
        "train(env)"
      ],
      "execution_count": null,
      "outputs": [
        {
          "output_type": "display_data",
          "data": {
            "image/png": "[encoded data removed]",
            "text/plain": [
              "<Figure size 432x288 with 1 Axes>"
            ]
          },
          "metadata": {
            "tags": [],
            "needs_background": "light"
          }
        }
      ]
    },
    {
      "cell_type": "code",
      "metadata": {
        "colab": {
          "base_uri": "https://localhost:8080/"
        },
        "id": "TjKQ0j0rcefv",
        "outputId": "bb49b1a2-4f39-40f1-f1e1-f5551326d06c"
      },
      "source": [
        "arms=119\n",
        "state=env.get_state()\n",
        "cur_state = Variable(th.Tensor(one_hot(arms,state)))\n",
        "y_pred = model(cur_state) \n",
        "av_softmax = softmax(y_pred.data.numpy(), tau=2.0) #turn reward distribution into probability distribution\n",
        "av_softmax /= av_softmax.sum() #make sure total prob adds to 1\n",
        "\n",
        "print(\"Deduced:\", np.unravel_index(av_softmax.argmax(), av_softmax.shape))\n",
        "print(\"State: \",state)\n",
        "\n",
        "\n",
        "for n in range(Edge_Id.shape[0]):\n",
        "  if (state==Edge_Id[n,0] ) or (state==Edge_Id[n,1]):\n",
        "    print(Edge_Id[n,:])\n"
      ],
      "execution_count": null,
      "outputs": [
        {
          "output_type": "stream",
          "text": [
            "Deduced: (97,)\n",
            "State:  13\n",
            "[13. 12.]\n"
          ],
          "name": "stdout"
        }
      ]
    },
    {
      "cell_type": "code",
      "metadata": {
        "colab": {
          "base_uri": "https://localhost:8080/"
        },
        "id": "6GXrYYfbdwmN",
        "outputId": "dd442b56-87bc-472d-83ae-e51e8582f0f6"
      },
      "source": [
        "env.get_state()"
      ],
      "execution_count": null,
      "outputs": [
        {
          "output_type": "execute_result",
          "data": {
            "text/plain": [
              "13"
            ]
          },
          "metadata": {
            "tags": []
          },
          "execution_count": 65
        }
      ]
    },
    {
      "cell_type": "code",
      "metadata": {
        "colab": {
          "base_uri": "https://localhost:8080/"
        },
        "id": "-S5lAMSVd5QM",
        "outputId": "301e7544-0e4e-4686-c0bd-29a2f9e0d1aa"
      },
      "source": [
        "np.unravel_index(cur_state.argmax(), cur_state.shape)"
      ],
      "execution_count": null,
      "outputs": [
        {
          "output_type": "execute_result",
          "data": {
            "text/plain": [
              "(100,)"
            ]
          },
          "metadata": {
            "tags": []
          },
          "execution_count": 107
        }
      ]
    },
    {
      "cell_type": "code",
      "metadata": {
        "colab": {
          "base_uri": "https://localhost:8080/"
        },
        "id": "tqKY4-vXd7vz",
        "outputId": "0e66f457-7859-4b02-a6b4-4daff6e8a8dc"
      },
      "source": [
        "tester=np.array([20,node_target[1]])\n",
        "for n in range(Edge_Id.shape[0]):\n",
        "  if (119==Edge_Id[n,0] ) or (119==Edge_Id[n,1]):\n",
        "    print(Edge_Id[n,:])"
      ],
      "execution_count": null,
      "outputs": [
        {
          "output_type": "stream",
          "text": [
            "[112. 119.]\n",
            "[ 37. 119.]\n"
          ],
          "name": "stdout"
        }
      ]
    },
    {
      "cell_type": "code",
      "metadata": {
        "id": "tLzkcNOwd_E3"
      },
      "source": [
        "class Blob:\n",
        "    def __init__(self):\n",
        "        self.x = np.random.randint(0, SIZE)\n",
        "        self.y = np.random.randint(0, SIZE)\n",
        "\n",
        "    def __str__(self):\n",
        "        return f\"{self.x}, {self.y}\"\n",
        "\n",
        "    def __sub__(self, other):\n",
        "        return (self.x-other.x, self.y-other.y)\n",
        "\n",
        "    def action(self, choice):\n",
        "        if choice == 0:\n",
        "          self.move(x=0, y=1)\n",
        "        for i in range(SIZE-1):\n",
        "          if choice == i+1:\n",
        "            self.move(x=0, y=i+1)\n",
        "            break\n",
        "        # elif choice == 2:\n",
        "        #     self.move(x=-1, y=1)\n",
        "        # elif choice == 3:\n",
        "        #     self.move(x=1, y=-1)\n",
        "\n",
        "    def move(self, x=False, y=False):\n",
        "\n",
        "        # If no value for x, move randomly\n",
        "        if not x:\n",
        "            self.x += np.random.randint(-1, 2)\n",
        "        else:\n",
        "            self.x += x\n",
        "\n",
        "        # If no value for y, move randomly\n",
        "        if not y:\n",
        "            self.y += np.random.randint(-1, 2)\n",
        "        else:\n",
        "            self.y += y\n",
        "\n",
        "\n",
        "        # If we are out of bounds, fix!\n",
        "        if self.x < 0:\n",
        "            self.x = 0\n",
        "        elif self.x > SIZE-1:\n",
        "            self.x = SIZE-1\n",
        "        if self.y < 0:\n",
        "            self.y = 0\n",
        "        elif self.y > SIZE-1:\n",
        "            self.y = SIZE-1"
      ],
      "execution_count": null,
      "outputs": []
    },
    {
      "cell_type": "code",
      "metadata": {
        "colab": {
          "base_uri": "https://localhost:8080/"
        },
        "id": "IS8XAjDj2MmK",
        "outputId": "dcb3f970-80b0-40be-d3dc-9ed439530d2c"
      },
      "source": [
        "\n",
        "SIZE = 119\n",
        "\n",
        "HM_EPISODES = 25000\n",
        "MOVE_PENALTY = 1\n",
        "ENEMY_PENALTY = 300\n",
        "FOOD_REWARD = 25\n",
        "epsilon = 0.9\n",
        "EPS_DECAY = 0.9998  # Every episode will be epsilon*EPS_DECAY\n",
        "SHOW_EVERY = 3000  # how often to play through env visually.\n",
        "\n",
        "start_q_table = None # None or Filename\n",
        "\n",
        "LEARNING_RATE = 0.1\n",
        "DISCOUNT = 0.95\n",
        "\n",
        "\n",
        "q_table=J_Matrix\n",
        "\n",
        "X_enemy=[]\n",
        "Y_enemy=[]\n",
        "X_food=[]\n",
        "Y_food=[]\n",
        "a,b=J_Matrix.shape\n",
        "for i in range(a):\n",
        "  for j in range(b):\n",
        "    if J_Matrix[i,j]==0:\n",
        "      X_enemy.append(i)\n",
        "      Y_enemy.append(j)\n",
        "    else:\n",
        "      X_food.append(i)\n",
        "      Y_food.append(j)\n",
        "\n",
        "\n",
        "\n",
        "episode_rewards = []\n",
        "\n",
        "for episode in range(HM_EPISODES):\n",
        "    player = Blob()\n",
        "    food = Blob()\n",
        "    enemy = Blob()\n",
        "    \n",
        "    \n",
        "\n",
        "\n",
        "    if episode % SHOW_EVERY == 0:\n",
        "        print(f\"on #{episode}, epsilon is {epsilon}\")\n",
        "        print(f\"{SHOW_EVERY} ep mean: {np.mean(episode_rewards[-SHOW_EVERY:])}\")\n",
        "        show = True\n",
        "    else:\n",
        "        show = False\n",
        "\n",
        "    episode_reward = 0\n",
        "    for i in range(J_Matrix.shape[0]):\n",
        "        obs = i\n",
        "        #print(obs)\n",
        "        if np.random.random() > epsilon:\n",
        "            # GET THE ACTION\n",
        "            action = np.argmax(q_table[obs])\n",
        "        else:\n",
        "            action = np.random.randint(0, J_Matrix.shape[0])\n",
        "        # Take the action!\n",
        "        player.action(action)\n",
        "\n",
        "        #### MAYBE ###\n",
        "        #enemy.move()\n",
        "        #food.move()\n",
        "        ##############\n",
        "\n",
        "\n",
        "\n",
        "        enemy.x=random.choice(X_enemy)\n",
        "        enemy.y=random.choice(Y_enemy)\n",
        "        food.x=random.choice(X_food)\n",
        "        food.y=random.choice(Y_food)\n",
        "\n",
        "        if player.x == enemy.x and player.y == enemy.y:\n",
        "            reward = -ENEMY_PENALTY\n",
        "        elif player.x == food.x and player.y == food.y:\n",
        "            reward = FOOD_REWARD\n",
        "        else:\n",
        "            reward = -MOVE_PENALTY\n",
        "        ## NOW WE KNOW THE REWARD, LET'S CALC YO\n",
        "        # first we need to obs immediately after the move.\n",
        "        new_obs = (player-food, player-enemy)\n",
        "        max_future_q = np.max(q_table[new_obs])\n",
        "        current_q = q_table[obs][action]\n",
        "\n",
        "        if reward == FOOD_REWARD:\n",
        "            new_q = FOOD_REWARD\n",
        "        else:\n",
        "            new_q = (1 - LEARNING_RATE) * current_q + LEARNING_RATE * (reward + DISCOUNT * max_future_q)\n",
        "        q_table[obs][action] = new_q\n",
        "\n",
        "        \n",
        "\n",
        "        episode_reward += reward\n",
        "        if reward == FOOD_REWARD or reward == -ENEMY_PENALTY:\n",
        "            break\n",
        "\n",
        "    #print(episode_reward)\n",
        "    episode_rewards.append(episode_reward)\n",
        "    epsilon *= EPS_DECAY"
      ],
      "execution_count": null,
      "outputs": [
        {
          "output_type": "stream",
          "text": [
            "on #0, epsilon is 0.9\n",
            "3000 ep mean: nan\n"
          ],
          "name": "stdout"
        },
        {
          "output_type": "stream",
          "text": [
            "/usr/local/lib/python3.7/dist-packages/numpy/core/fromnumeric.py:3373: RuntimeWarning: Mean of empty slice.\n",
            "  out=out, **kwargs)\n",
            "/usr/local/lib/python3.7/dist-packages/numpy/core/_methods.py:170: RuntimeWarning: invalid value encountered in double_scalars\n",
            "  ret = ret.dtype.type(ret / rcount)\n"
          ],
          "name": "stderr"
        },
        {
          "output_type": "stream",
          "text": [
            "on #3000, epsilon is 0.49390083359356435\n",
            "3000 ep mean: -120.91333333333333\n",
            "on #6000, epsilon is 0.27104225936046566\n",
            "3000 ep mean: -119.97633333333333\n",
            "on #9000, epsilon is 0.14874221981913022\n",
            "3000 ep mean: -120.41733333333333\n",
            "on #12000, epsilon is 0.08162656262136181\n",
            "3000 ep mean: -120.41066666666667\n",
            "on #15000, epsilon is 0.044794919246742226\n",
            "3000 ep mean: -119.48633333333333\n",
            "on #18000, epsilon is 0.024582497729691496\n",
            "3000 ep mean: -119.803\n",
            "on #21000, epsilon is 0.01349035124500733\n",
            "3000 ep mean: -120.172\n",
            "on #24000, epsilon is 0.0074032174726434705\n",
            "3000 ep mean: -120.15166666666667\n"
          ],
          "name": "stdout"
        }
      ]
    },
    {
      "cell_type": "code",
      "metadata": {
        "colab": {
          "base_uri": "https://localhost:8080/",
          "height": 279
        },
        "id": "0XXIcekA3kbh",
        "outputId": "e12b0faa-5c20-4068-e8c3-76eaf010b4f5"
      },
      "source": [
        "moving_avg = np.convolve(episode_rewards, np.ones((SHOW_EVERY,))/SHOW_EVERY, mode='valid')\n",
        "\n",
        "plt.plot([i for i in range(len(moving_avg))], moving_avg)\n",
        "plt.ylabel(f\"Reward\")\n",
        "plt.xlabel(\"episode #\")\n",
        "plt.show()"
      ],
      "execution_count": null,
      "outputs": [
        {
          "output_type": "display_data",
          "data": {
            "image/png": "[encoded data removed]",
            "text/plain": [
              "<Figure size 432x288 with 1 Axes>"
            ]
          },
          "metadata": {
            "tags": [],
            "needs_background": "light"
          }
        }
      ]
    },
    {
      "cell_type": "code",
      "metadata": {
        "colab": {
          "base_uri": "https://localhost:8080/"
        },
        "id": "P5CwXe55GEgm",
        "outputId": "e8c092ea-6ede-4d8a-c39b-32851bf7b0b2"
      },
      "source": [
        "R=q_table[2,:]\n",
        "np.unravel_index(R.argmax(), R.shape)"
      ],
      "execution_count": null,
      "outputs": [
        {
          "output_type": "execute_result",
          "data": {
            "text/plain": [
              "(76,)"
            ]
          },
          "metadata": {
            "tags": []
          },
          "execution_count": 31
        }
      ]
    },
    {
      "cell_type": "code",
      "metadata": {
        "colab": {
          "base_uri": "https://localhost:8080/"
        },
        "id": "jn0S9vQp9LsG",
        "outputId": "3fe77caa-4759-41d3-abea-c155a5a68d53"
      },
      "source": [
        "for n in range(Edge_Id.shape[0]):\n",
        "  if (2==Edge_Id[n,0] ) or (2==Edge_Id[n,1]):\n",
        "    print(Edge_Id[n,:])"
      ],
      "execution_count": null,
      "outputs": [
        {
          "output_type": "stream",
          "text": [
            "[2. 5.]\n"
          ],
          "name": "stdout"
        }
      ]
    },
    {
      "cell_type": "code",
      "metadata": {
        "id": "LvdrFqf9ibQG",
        "colab": {
          "base_uri": "https://localhost:8080/",
          "height": 1000
        },
        "outputId": "211047ab-2a8b-4377-bb40-0b48583aab72"
      },
      "source": [
        "\n",
        "!pip install tensorflow==2.3.0\n",
        "!pip install gym\n",
        "!pip install keras\n",
        "!pip install keras-rl2"
      ],
      "execution_count": null,
      "outputs": [
        {
          "output_type": "stream",
          "text": [
            "Collecting tensorflow==2.3.0\n",
            "\u001b[?25l  Downloading https://files.pythonhosted.org/packages/16/89/f2d29c2eafc2eeafb17d5634340e06366af904d332341200a49d954bce85/tensorflow-2.3.0-cp37-cp37m-manylinux2010_x86_64.whl (320.4MB)\n",
            "\u001b[K     |████████████████████████████████| 320.4MB 33kB/s \n",
            "\u001b[?25hRequirement already satisfied: absl-py>=0.7.0 in /usr/local/lib/python3.7/dist-packages (from tensorflow==2.3.0) (0.12.0)\n",
            "Requirement already satisfied: termcolor>=1.1.0 in /usr/local/lib/python3.7/dist-packages (from tensorflow==2.3.0) (1.1.0)\n",
            "Collecting numpy<1.19.0,>=1.16.0\n",
            "\u001b[?25l  Downloading https://files.pythonhosted.org/packages/d6/c6/58e517e8b1fb192725cfa23c01c2e60e4e6699314ee9684a1c5f5c9b27e1/numpy-1.18.5-cp37-cp37m-manylinux1_x86_64.whl (20.1MB)\n",
            "\u001b[K     |████████████████████████████████| 20.1MB 1.5MB/s \n",
            "\u001b[?25hRequirement already satisfied: keras-preprocessing<1.2,>=1.1.1 in /usr/local/lib/python3.7/dist-packages (from tensorflow==2.3.0) (1.1.2)\n",
            "Requirement already satisfied: protobuf>=3.9.2 in /usr/local/lib/python3.7/dist-packages (from tensorflow==2.3.0) (3.12.4)\n",
            "Requirement already satisfied: scipy==1.4.1 in /usr/local/lib/python3.7/dist-packages (from tensorflow==2.3.0) (1.4.1)\n",
            "Requirement already satisfied: tensorboard<3,>=2.3.0 in /usr/local/lib/python3.7/dist-packages (from tensorflow==2.3.0) (2.4.1)\n",
            "Requirement already satisfied: grpcio>=1.8.6 in /usr/local/lib/python3.7/dist-packages (from tensorflow==2.3.0) (1.32.0)\n",
            "Requirement already satisfied: opt-einsum>=2.3.2 in /usr/local/lib/python3.7/dist-packages (from tensorflow==2.3.0) (3.3.0)\n",
            "Requirement already satisfied: wrapt>=1.11.1 in /usr/local/lib/python3.7/dist-packages (from tensorflow==2.3.0) (1.12.1)\n",
            "Requirement already satisfied: google-pasta>=0.1.8 in /usr/local/lib/python3.7/dist-packages (from tensorflow==2.3.0) (0.2.0)\n",
            "Collecting tensorflow-estimator<2.4.0,>=2.3.0\n",
            "\u001b[?25l  Downloading https://files.pythonhosted.org/packages/e9/ed/5853ec0ae380cba4588eab1524e18ece1583b65f7ae0e97321f5ff9dfd60/tensorflow_estimator-2.3.0-py2.py3-none-any.whl (459kB)\n",
            "\u001b[K     |████████████████████████████████| 460kB 43.8MB/s \n",
            "\u001b[?25hRequirement already satisfied: wheel>=0.26 in /usr/local/lib/python3.7/dist-packages (from tensorflow==2.3.0) (0.36.2)\n",
            "Requirement already satisfied: gast==0.3.3 in /usr/local/lib/python3.7/dist-packages (from tensorflow==2.3.0) (0.3.3)\n",
            "Requirement already satisfied: h5py<2.11.0,>=2.10.0 in /usr/local/lib/python3.7/dist-packages (from tensorflow==2.3.0) (2.10.0)\n",
            "Requirement already satisfied: six>=1.12.0 in /usr/local/lib/python3.7/dist-packages (from tensorflow==2.3.0) (1.15.0)\n",
            "Requirement already satisfied: astunparse==1.6.3 in /usr/local/lib/python3.7/dist-packages (from tensorflow==2.3.0) (1.6.3)\n",
            "Requirement already satisfied: setuptools in /usr/local/lib/python3.7/dist-packages (from protobuf>=3.9.2->tensorflow==2.3.0) (56.1.0)\n",
            "Requirement already satisfied: google-auth-oauthlib<0.5,>=0.4.1 in /usr/local/lib/python3.7/dist-packages (from tensorboard<3,>=2.3.0->tensorflow==2.3.0) (0.4.4)\n",
            "Requirement already satisfied: tensorboard-plugin-wit>=1.6.0 in /usr/local/lib/python3.7/dist-packages (from tensorboard<3,>=2.3.0->tensorflow==2.3.0) (1.8.0)\n",
            "Requirement already satisfied: requests<3,>=2.21.0 in /usr/local/lib/python3.7/dist-packages (from tensorboard<3,>=2.3.0->tensorflow==2.3.0) (2.23.0)\n",
            "Requirement already satisfied: markdown>=2.6.8 in /usr/local/lib/python3.7/dist-packages (from tensorboard<3,>=2.3.0->tensorflow==2.3.0) (3.3.4)\n",
            "Requirement already satisfied: google-auth<2,>=1.6.3 in /usr/local/lib/python3.7/dist-packages (from tensorboard<3,>=2.3.0->tensorflow==2.3.0) (1.30.0)\n",
            "Requirement already satisfied: werkzeug>=0.11.15 in /usr/local/lib/python3.7/dist-packages (from tensorboard<3,>=2.3.0->tensorflow==2.3.0) (2.0.0)\n",
            "Requirement already satisfied: requests-oauthlib>=0.7.0 in /usr/local/lib/python3.7/dist-packages (from google-auth-oauthlib<0.5,>=0.4.1->tensorboard<3,>=2.3.0->tensorflow==2.3.0) (1.3.0)\n",
            "Requirement already satisfied: urllib3!=1.25.0,!=1.25.1,<1.26,>=1.21.1 in /usr/local/lib/python3.7/dist-packages (from requests<3,>=2.21.0->tensorboard<3,>=2.3.0->tensorflow==2.3.0) (1.24.3)\n",
            "Requirement already satisfied: idna<3,>=2.5 in /usr/local/lib/python3.7/dist-packages (from requests<3,>=2.21.0->tensorboard<3,>=2.3.0->tensorflow==2.3.0) (2.10)\n",
            "Requirement already satisfied: certifi>=2017.4.17 in /usr/local/lib/python3.7/dist-packages (from requests<3,>=2.21.0->tensorboard<3,>=2.3.0->tensorflow==2.3.0) (2020.12.5)\n",
            "Requirement already satisfied: chardet<4,>=3.0.2 in /usr/local/lib/python3.7/dist-packages (from requests<3,>=2.21.0->tensorboard<3,>=2.3.0->tensorflow==2.3.0) (3.0.4)\n",
            "Requirement already satisfied: importlib-metadata; python_version < \"3.8\" in /usr/local/lib/python3.7/dist-packages (from markdown>=2.6.8->tensorboard<3,>=2.3.0->tensorflow==2.3.0) (4.0.1)\n",
            "Requirement already satisfied: rsa<5,>=3.1.4; python_version >= \"3.6\" in /usr/local/lib/python3.7/dist-packages (from google-auth<2,>=1.6.3->tensorboard<3,>=2.3.0->tensorflow==2.3.0) (4.7.2)\n",
            "Requirement already satisfied: cachetools<5.0,>=2.0.0 in /usr/local/lib/python3.7/dist-packages (from google-auth<2,>=1.6.3->tensorboard<3,>=2.3.0->tensorflow==2.3.0) (4.2.2)\n",
            "Requirement already satisfied: pyasn1-modules>=0.2.1 in /usr/local/lib/python3.7/dist-packages (from google-auth<2,>=1.6.3->tensorboard<3,>=2.3.0->tensorflow==2.3.0) (0.2.8)\n",
            "Requirement already satisfied: oauthlib>=3.0.0 in /usr/local/lib/python3.7/dist-packages (from requests-oauthlib>=0.7.0->google-auth-oauthlib<0.5,>=0.4.1->tensorboard<3,>=2.3.0->tensorflow==2.3.0) (3.1.0)\n",
            "Requirement already satisfied: zipp>=0.5 in /usr/local/lib/python3.7/dist-packages (from importlib-metadata; python_version < \"3.8\"->markdown>=2.6.8->tensorboard<3,>=2.3.0->tensorflow==2.3.0) (3.4.1)\n",
            "Requirement already satisfied: typing-extensions>=3.6.4; python_version < \"3.8\" in /usr/local/lib/python3.7/dist-packages (from importlib-metadata; python_version < \"3.8\"->markdown>=2.6.8->tensorboard<3,>=2.3.0->tensorflow==2.3.0) (3.7.4.3)\n",
            "Requirement already satisfied: pyasn1>=0.1.3 in /usr/local/lib/python3.7/dist-packages (from rsa<5,>=3.1.4; python_version >= \"3.6\"->google-auth<2,>=1.6.3->tensorboard<3,>=2.3.0->tensorflow==2.3.0) (0.4.8)\n",
            "\u001b[31mERROR: datascience 0.10.6 has requirement folium==0.2.1, but you'll have folium 0.8.3 which is incompatible.\u001b[0m\n",
            "\u001b[31mERROR: albumentations 0.1.12 has requirement imgaug<0.2.7,>=0.2.5, but you'll have imgaug 0.2.9 which is incompatible.\u001b[0m\n",
            "Installing collected packages: numpy, tensorflow-estimator, tensorflow\n",
            "  Found existing installation: numpy 1.19.5\n",
            "    Uninstalling numpy-1.19.5:\n",
            "      Successfully uninstalled numpy-1.19.5\n",
            "  Found existing installation: tensorflow-estimator 2.4.0\n",
            "    Uninstalling tensorflow-estimator-2.4.0:\n",
            "      Successfully uninstalled tensorflow-estimator-2.4.0\n",
            "  Found existing installation: tensorflow 2.4.1\n",
            "    Uninstalling tensorflow-2.4.1:\n",
            "      Successfully uninstalled tensorflow-2.4.1\n",
            "Successfully installed numpy-1.18.5 tensorflow-2.3.0 tensorflow-estimator-2.3.0\n"
          ],
          "name": "stdout"
        },
        {
          "output_type": "display_data",
          "data": {
            "application/vnd.colab-display-data+json": {
              "pip_warning": {
                "packages": [
                  "numpy",
                  "tensorflow"
                ]
              }
            }
          },
          "metadata": {
            "tags": []
          }
        },
        {
          "output_type": "stream",
          "text": [
            "Requirement already satisfied: gym in /usr/local/lib/python3.7/dist-packages (0.17.3)\n",
            "Requirement already satisfied: pyglet<=1.5.0,>=1.4.0 in /usr/local/lib/python3.7/dist-packages (from gym) (1.5.0)\n",
            "Requirement already satisfied: scipy in /usr/local/lib/python3.7/dist-packages (from gym) (1.4.1)\n",
            "Requirement already satisfied: cloudpickle<1.7.0,>=1.2.0 in /usr/local/lib/python3.7/dist-packages (from gym) (1.3.0)\n",
            "Requirement already satisfied: numpy>=1.10.4 in /usr/local/lib/python3.7/dist-packages (from gym) (1.18.5)\n",
            "Requirement already satisfied: future in /usr/local/lib/python3.7/dist-packages (from pyglet<=1.5.0,>=1.4.0->gym) (0.16.0)\n",
            "Requirement already satisfied: keras in /usr/local/lib/python3.7/dist-packages (2.4.3)\n",
            "Requirement already satisfied: pyyaml in /usr/local/lib/python3.7/dist-packages (from keras) (3.13)\n",
            "Requirement already satisfied: numpy>=1.9.1 in /usr/local/lib/python3.7/dist-packages (from keras) (1.18.5)\n",
            "Requirement already satisfied: h5py in /usr/local/lib/python3.7/dist-packages (from keras) (2.10.0)\n",
            "Requirement already satisfied: scipy>=0.14 in /usr/local/lib/python3.7/dist-packages (from keras) (1.4.1)\n",
            "Requirement already satisfied: six in /usr/local/lib/python3.7/dist-packages (from h5py->keras) (1.15.0)\n",
            "Collecting keras-rl2\n",
            "\u001b[?25l  Downloading https://files.pythonhosted.org/packages/b6/fc/143ee05aed804b3b9052d7b17b13832bc7f3c28e7b1bc50edd09c29d8525/keras_rl2-1.0.5-py3-none-any.whl (52kB)\n",
            "\u001b[K     |████████████████████████████████| 61kB 3.4MB/s \n",
            "\u001b[?25hRequirement already satisfied: tensorflow in /usr/local/lib/python3.7/dist-packages (from keras-rl2) (2.3.0)\n",
            "Requirement already satisfied: google-pasta>=0.1.8 in /usr/local/lib/python3.7/dist-packages (from tensorflow->keras-rl2) (0.2.0)\n",
            "Requirement already satisfied: tensorflow-estimator<2.4.0,>=2.3.0 in /usr/local/lib/python3.7/dist-packages (from tensorflow->keras-rl2) (2.3.0)\n",
            "Requirement already satisfied: scipy==1.4.1 in /usr/local/lib/python3.7/dist-packages (from tensorflow->keras-rl2) (1.4.1)\n",
            "Requirement already satisfied: wheel>=0.26 in /usr/local/lib/python3.7/dist-packages (from tensorflow->keras-rl2) (0.36.2)\n",
            "Requirement already satisfied: numpy<1.19.0,>=1.16.0 in /usr/local/lib/python3.7/dist-packages (from tensorflow->keras-rl2) (1.18.5)\n",
            "Requirement already satisfied: keras-preprocessing<1.2,>=1.1.1 in /usr/local/lib/python3.7/dist-packages (from tensorflow->keras-rl2) (1.1.2)\n",
            "Requirement already satisfied: termcolor>=1.1.0 in /usr/local/lib/python3.7/dist-packages (from tensorflow->keras-rl2) (1.1.0)\n",
            "Requirement already satisfied: tensorboard<3,>=2.3.0 in /usr/local/lib/python3.7/dist-packages (from tensorflow->keras-rl2) (2.4.1)\n",
            "Requirement already satisfied: gast==0.3.3 in /usr/local/lib/python3.7/dist-packages (from tensorflow->keras-rl2) (0.3.3)\n",
            "Requirement already satisfied: absl-py>=0.7.0 in /usr/local/lib/python3.7/dist-packages (from tensorflow->keras-rl2) (0.12.0)\n",
            "Requirement already satisfied: opt-einsum>=2.3.2 in /usr/local/lib/python3.7/dist-packages (from tensorflow->keras-rl2) (3.3.0)\n",
            "Requirement already satisfied: wrapt>=1.11.1 in /usr/local/lib/python3.7/dist-packages (from tensorflow->keras-rl2) (1.12.1)\n",
            "Requirement already satisfied: grpcio>=1.8.6 in /usr/local/lib/python3.7/dist-packages (from tensorflow->keras-rl2) (1.32.0)\n",
            "Requirement already satisfied: protobuf>=3.9.2 in /usr/local/lib/python3.7/dist-packages (from tensorflow->keras-rl2) (3.12.4)\n",
            "Requirement already satisfied: h5py<2.11.0,>=2.10.0 in /usr/local/lib/python3.7/dist-packages (from tensorflow->keras-rl2) (2.10.0)\n",
            "Requirement already satisfied: astunparse==1.6.3 in /usr/local/lib/python3.7/dist-packages (from tensorflow->keras-rl2) (1.6.3)\n",
            "Requirement already satisfied: six>=1.12.0 in /usr/local/lib/python3.7/dist-packages (from tensorflow->keras-rl2) (1.15.0)\n",
            "Requirement already satisfied: google-auth<2,>=1.6.3 in /usr/local/lib/python3.7/dist-packages (from tensorboard<3,>=2.3.0->tensorflow->keras-rl2) (1.30.0)\n",
            "Requirement already satisfied: requests<3,>=2.21.0 in /usr/local/lib/python3.7/dist-packages (from tensorboard<3,>=2.3.0->tensorflow->keras-rl2) (2.23.0)\n",
            "Requirement already satisfied: werkzeug>=0.11.15 in /usr/local/lib/python3.7/dist-packages (from tensorboard<3,>=2.3.0->tensorflow->keras-rl2) (2.0.0)\n",
            "Requirement already satisfied: google-auth-oauthlib<0.5,>=0.4.1 in /usr/local/lib/python3.7/dist-packages (from tensorboard<3,>=2.3.0->tensorflow->keras-rl2) (0.4.4)\n",
            "Requirement already satisfied: markdown>=2.6.8 in /usr/local/lib/python3.7/dist-packages (from tensorboard<3,>=2.3.0->tensorflow->keras-rl2) (3.3.4)\n",
            "Requirement already satisfied: setuptools>=41.0.0 in /usr/local/lib/python3.7/dist-packages (from tensorboard<3,>=2.3.0->tensorflow->keras-rl2) (56.1.0)\n",
            "Requirement already satisfied: tensorboard-plugin-wit>=1.6.0 in /usr/local/lib/python3.7/dist-packages (from tensorboard<3,>=2.3.0->tensorflow->keras-rl2) (1.8.0)\n",
            "Requirement already satisfied: pyasn1-modules>=0.2.1 in /usr/local/lib/python3.7/dist-packages (from google-auth<2,>=1.6.3->tensorboard<3,>=2.3.0->tensorflow->keras-rl2) (0.2.8)\n",
            "Requirement already satisfied: rsa<5,>=3.1.4; python_version >= \"3.6\" in /usr/local/lib/python3.7/dist-packages (from google-auth<2,>=1.6.3->tensorboard<3,>=2.3.0->tensorflow->keras-rl2) (4.7.2)\n",
            "Requirement already satisfied: cachetools<5.0,>=2.0.0 in /usr/local/lib/python3.7/dist-packages (from google-auth<2,>=1.6.3->tensorboard<3,>=2.3.0->tensorflow->keras-rl2) (4.2.2)\n",
            "Requirement already satisfied: chardet<4,>=3.0.2 in /usr/local/lib/python3.7/dist-packages (from requests<3,>=2.21.0->tensorboard<3,>=2.3.0->tensorflow->keras-rl2) (3.0.4)\n",
            "Requirement already satisfied: idna<3,>=2.5 in /usr/local/lib/python3.7/dist-packages (from requests<3,>=2.21.0->tensorboard<3,>=2.3.0->tensorflow->keras-rl2) (2.10)\n",
            "Requirement already satisfied: urllib3!=1.25.0,!=1.25.1,<1.26,>=1.21.1 in /usr/local/lib/python3.7/dist-packages (from requests<3,>=2.21.0->tensorboard<3,>=2.3.0->tensorflow->keras-rl2) (1.24.3)\n",
            "Requirement already satisfied: certifi>=2017.4.17 in /usr/local/lib/python3.7/dist-packages (from requests<3,>=2.21.0->tensorboard<3,>=2.3.0->tensorflow->keras-rl2) (2020.12.5)\n",
            "Requirement already satisfied: requests-oauthlib>=0.7.0 in /usr/local/lib/python3.7/dist-packages (from google-auth-oauthlib<0.5,>=0.4.1->tensorboard<3,>=2.3.0->tensorflow->keras-rl2) (1.3.0)\n",
            "Requirement already satisfied: importlib-metadata; python_version < \"3.8\" in /usr/local/lib/python3.7/dist-packages (from markdown>=2.6.8->tensorboard<3,>=2.3.0->tensorflow->keras-rl2) (4.0.1)\n",
            "Requirement already satisfied: pyasn1<0.5.0,>=0.4.6 in /usr/local/lib/python3.7/dist-packages (from pyasn1-modules>=0.2.1->google-auth<2,>=1.6.3->tensorboard<3,>=2.3.0->tensorflow->keras-rl2) (0.4.8)\n",
            "Requirement already satisfied: oauthlib>=3.0.0 in /usr/local/lib/python3.7/dist-packages (from requests-oauthlib>=0.7.0->google-auth-oauthlib<0.5,>=0.4.1->tensorboard<3,>=2.3.0->tensorflow->keras-rl2) (3.1.0)\n",
            "Requirement already satisfied: typing-extensions>=3.6.4; python_version < \"3.8\" in /usr/local/lib/python3.7/dist-packages (from importlib-metadata; python_version < \"3.8\"->markdown>=2.6.8->tensorboard<3,>=2.3.0->tensorflow->keras-rl2) (3.7.4.3)\n",
            "Requirement already satisfied: zipp>=0.5 in /usr/local/lib/python3.7/dist-packages (from importlib-metadata; python_version < \"3.8\"->markdown>=2.6.8->tensorboard<3,>=2.3.0->tensorflow->keras-rl2) (3.4.1)\n",
            "Installing collected packages: keras-rl2\n",
            "Successfully installed keras-rl2-1.0.5\n"
          ],
          "name": "stdout"
        }
      ]
    },
    {
      "cell_type": "code",
      "metadata": {
        "id": "fqbv7L4P3p-a"
      },
      "source": [
        "from gym import Env\n",
        "from gym.spaces import Discrete, Box\n",
        "import math"
      ],
      "execution_count": null,
      "outputs": []
    },
    {
      "cell_type": "code",
      "metadata": {
        "id": "18ZwC4Eq3pVQ"
      },
      "source": [
        "class ShowerEnv(Env):\n",
        "    def __init__(self):\n",
        "        # Actions we can take, down, stay, up\n",
        "        self.action_space = Discrete(J_Matrix.shape[0])\n",
        "        # Temperature array\n",
        "        # self.observation_space = Box(low=np.array([0]), high=np.array([100]))\n",
        "        self.observation_space =  Box(low=np.array([0]), high=np.array([J_Matrix.shape[0]]),dtype=np.int)\n",
        "        # Set start temp\n",
        "        self.state = math.ceil(J_Matrix.shape[0]/2) + random.randint(math.ceil(-J_Matrix.shape[0]/2),math.ceil(J_Matrix.shape[0]/2))\n",
        "        # Set shower length\n",
        "        self.shower_length = J_Matrix.shape[0]\n",
        "        \n",
        "    def step(self, action):\n",
        "        # Apply action\n",
        "        # 0 -1 = -1 temperature\n",
        "        # 1 -1 = 0 \n",
        "        # 2 -1 = 1 temperature \n",
        "        temp_state=self.state\n",
        "        self.state = action\n",
        "        # Reduce shower length by 1 second\n",
        "        self.shower_length -= 1 \n",
        "        \n",
        "        # Calculate reward\n",
        "        if J_Matrix[math.ceil(temp_state),math.ceil(self.state)] >=1: \n",
        "            reward =1 \n",
        "        else: \n",
        "            reward = -1 \n",
        "        \n",
        "        # Check if shower is done\n",
        "        if self.shower_length <= 0: \n",
        "            done = True\n",
        "        else:\n",
        "            done = False\n",
        "        \n",
        "        # Apply temperature noise\n",
        "        #self.state += random.randint(-1,1)\n",
        "        # Set placeholder for info\n",
        "        info = {}\n",
        "        \n",
        "        # Return step information\n",
        "        return self.state, reward, done, info\n",
        "    def render(self):\n",
        "        # Implement viz\n",
        "        pass\n",
        "    \n",
        "    def reset(self):\n",
        "        # Reset shower temperature\n",
        "        self.state = math.ceil(J_Matrix.shape[0]/2) \n",
        "        # Reset shower time\n",
        "        self.shower_length =J_Matrix.shape[0]\n",
        "        return self.state\n"
      ],
      "execution_count": null,
      "outputs": []
    },
    {
      "cell_type": "code",
      "metadata": {
        "id": "L7PN0rgTPwUH"
      },
      "source": [
        "env = ShowerEnv()"
      ],
      "execution_count": null,
      "outputs": []
    },
    {
      "cell_type": "code",
      "metadata": {
        "colab": {
          "base_uri": "https://localhost:8080/"
        },
        "id": "poFboCixk6zL",
        "outputId": "11b29da2-8867-45e6-d044-1df02979a606"
      },
      "source": [
        "states = env.observation_space.shape\n",
        "actions = env.action_space.n\n",
        "\n",
        "\n",
        "print(states)\n",
        "print(actions)"
      ],
      "execution_count": null,
      "outputs": [
        {
          "output_type": "stream",
          "text": [
            "(1,)\n",
            "119\n"
          ],
          "name": "stdout"
        }
      ]
    },
    {
      "cell_type": "code",
      "metadata": {
        "colab": {
          "base_uri": "https://localhost:8080/"
        },
        "id": "-Ht6Qe-4PxvN",
        "outputId": "e7ee1c75-9945-489d-ed06-6514b6751f9e"
      },
      "source": [
        "import numpy as np\n",
        "import keras\n",
        "from tensorflow.keras.models import Sequential\n",
        "from tensorflow.keras.layers import Dense, Flatten\n",
        "from tensorflow.keras.optimizers import Adam\n",
        "\n",
        "states = env.observation_space.shape\n",
        "actions = env.action_space.n\n",
        "\n",
        "\n",
        "def build_model(states, actions):\n",
        "    model = Sequential()    \n",
        "    model.add(Dense(24, activation='relu', input_shape=states))\n",
        "    model.add(Dense(24, activation='relu'))\n",
        "    model.add(Dense(actions, activation='linear'))\n",
        "    return model\n",
        "\n",
        "\n",
        "\n",
        "model = build_model(states, actions)\n",
        "\n",
        "\n",
        "from rl.agents import DQNAgent\n",
        "from rl.policy import BoltzmannQPolicy\n",
        "from rl.memory import SequentialMemory\n",
        "\n",
        "\n",
        "\n",
        "def build_agent(model, actions):\n",
        "    policy = BoltzmannQPolicy()\n",
        "    memory = SequentialMemory(limit=50000, window_length=1)\n",
        "    dqn = DQNAgent(model=model, memory=memory, policy=policy, \n",
        "                  nb_actions=actions, nb_steps_warmup=10, target_model_update=1e-2)\n",
        "    return dqn\n",
        "\n",
        "\n",
        "dqn = build_agent(model, actions)\n",
        "dqn.compile(Adam(lr=1e-3), metrics=['mae'])\n",
        "dqn.fit(env, nb_steps=50000, visualize=False, verbose=1)\n",
        "\n",
        "\n"
      ],
      "execution_count": null,
      "outputs": [
        {
          "output_type": "stream",
          "text": [
            "Training for 50000 steps ...\n",
            "Interval 1 (0 steps performed)\n"
          ],
          "name": "stdout"
        },
        {
          "output_type": "stream",
          "text": [
            "/usr/local/lib/python3.7/dist-packages/tensorflow/python/keras/engine/training.py:2325: UserWarning: `Model.state_updates` will be removed in a future version. This property should not be used in TensorFlow 2.0, as `updates` are applied automatically.\n",
            "  self._assert_weights_created()\n"
          ],
          "name": "stderr"
        },
        {
          "output_type": "stream",
          "text": [
            "\r    1/10000 [..............................] - ETA: 37:45 - reward: -1.0000"
          ],
          "name": "stdout"
        },
        {
          "output_type": "stream",
          "text": [
            "/usr/local/lib/python3.7/dist-packages/rl/memory.py:37: UserWarning: Not enough entries to sample without replacement. Consider increasing your warm-up phase to avoid oversampling!\n",
            "  warnings.warn('Not enough entries to sample without replacement. Consider increasing your warm-up phase to avoid oversampling!')\n"
          ],
          "name": "stderr"
        },
        {
          "output_type": "stream",
          "text": [
            "10000/10000 [==============================] - 85s 8ms/step - reward: 0.9972\n",
            "84 episodes - episode_reward: 118.667 [95.000, 119.000] - loss: 10.415 - mae: 7.754 - mean_q: 43.608\n",
            "\n",
            "Interval 2 (10000 steps performed)\n",
            "10000/10000 [==============================] - 84s 8ms/step - reward: 0.8000\n",
            "84 episodes - episode_reward: 95.238 [-21.000, 119.000] - loss: 12.632 - mae: 7.926 - mean_q: 54.590\n",
            "\n",
            "Interval 3 (20000 steps performed)\n",
            "10000/10000 [==============================] - 86s 9ms/step - reward: 0.7994\n",
            "84 episodes - episode_reward: 95.095 [55.000, 115.000] - loss: 14.416 - mae: 7.794 - mean_q: 58.763\n",
            "\n",
            "Interval 4 (30000 steps performed)\n",
            "10000/10000 [==============================] - 89s 9ms/step - reward: 0.6642\n",
            "84 episodes - episode_reward: 79.095 [39.000, 111.000] - loss: 14.522 - mae: 7.301 - mean_q: 58.838\n",
            "\n",
            "Interval 5 (40000 steps performed)\n",
            "10000/10000 [==============================] - 90s 9ms/step - reward: 0.6772\n",
            "done, took 434.165 seconds\n"
          ],
          "name": "stdout"
        },
        {
          "output_type": "execute_result",
          "data": {
            "text/plain": [
              "<tensorflow.python.keras.callbacks.History at 0x7fb83c4300d0>"
            ]
          },
          "metadata": {
            "tags": []
          },
          "execution_count": 148
        }
      ]
    },
    {
      "cell_type": "code",
      "metadata": {
        "colab": {
          "base_uri": "https://localhost:8080/"
        },
        "id": "C8ZNJqXRPz5r",
        "outputId": "6cf3220b-38d1-442d-b27c-a6689e9e0a3d"
      },
      "source": [
        "scores = dqn.test(env,action_repetition=20, nb_episodes=10, visualize=False)\n",
        "# print(np.mean(scores.history['episode_reward']))"
      ],
      "execution_count": null,
      "outputs": [
        {
          "output_type": "stream",
          "text": [
            "Testing for 10 episodes ...\n",
            "Episode 1: reward: 117.000, steps: 6\n",
            "Episode 2: reward: 117.000, steps: 6\n",
            "Episode 3: reward: 117.000, steps: 6\n",
            "Episode 4: reward: 117.000, steps: 6\n",
            "Episode 5: reward: 117.000, steps: 6\n",
            "Episode 6: reward: 117.000, steps: 6\n",
            "Episode 7: reward: 117.000, steps: 6\n",
            "Episode 8: reward: 117.000, steps: 6\n",
            "Episode 9: reward: 117.000, steps: 6\n",
            "Episode 10: reward: 117.000, steps: 6\n"
          ],
          "name": "stdout"
        }
      ]
    },
    {
      "cell_type": "code",
      "metadata": {
        "colab": {
          "base_uri": "https://localhost:8080/"
        },
        "id": "IZyiyVYUZvDB",
        "outputId": "6a66f363-1ef1-4a48-c761-41bff016be32"
      },
      "source": [
        "model.predict(np.array([3]))"
      ],
      "execution_count": null,
      "outputs": [
        {
          "output_type": "execute_result",
          "data": {
            "text/plain": [
              "array([[ 6.4011824e-01, -3.7539902e+00, -3.5495815e+00,  6.6914620e+00,\n",
              "         2.2168548e+00,  3.9429252e+00, -6.1114378e-02, -6.1534228e+00,\n",
              "         1.0700976e+00, -8.4546393e-01,  3.5291841e+00,  6.0226574e+01,\n",
              "         2.0101763e-01,  2.1039088e+00, -2.1707470e+00,  7.0299935e+00,\n",
              "         1.2168533e+00,  3.2722678e+00, -5.8955159e+00, -2.9047239e-01,\n",
              "        -1.5710063e+00,  2.3145445e-03,  2.6709194e+00, -3.0984962e+00,\n",
              "         4.7329125e-01, -2.9605248e+00, -3.6874897e+00,  2.2084286e+00,\n",
              "         1.9983829e+00,  6.1347263e+01, -3.8080473e+00,  1.4007711e+00,\n",
              "         5.0088143e+00,  8.3684969e-01,  1.8354416e+00, -4.3053970e+00,\n",
              "        -6.9707551e+00,  3.7946859e-01,  6.1890377e+01,  2.8048153e+00,\n",
              "         5.3937473e+00,  4.3880415e+00,  2.8781028e+00, -2.1153168e-01,\n",
              "         6.3359637e+00,  3.2426438e-01, -1.6321762e+00,  1.8886795e+00,\n",
              "        -3.0147982e+00, -2.2287655e+00,  3.0821595e+00,  1.9529444e+00,\n",
              "        -9.7485560e-01,  3.0205498e+00,  1.4318889e+00,  1.3750253e+00,\n",
              "        -1.3492310e+00, -3.3783314e+00,  6.2200005e+01, -2.0635514e+00,\n",
              "        -1.2582781e+00, -2.4813488e+00, -4.9946091e-01,  1.3020629e+00,\n",
              "        -5.4663754e+00,  9.3434209e-01, -2.6240971e+00, -1.0094017e+01,\n",
              "        -2.0266013e+00, -2.4211024e-01, -2.6115174e+00,  3.3752974e-02,\n",
              "        -6.9297302e-01,  5.9367222e-01, -1.4672769e+00, -5.6780214e+00,\n",
              "         1.8801806e+00,  5.5209222e+00, -3.6426506e+00,  7.6326215e-01,\n",
              "        -6.2139040e-01, -3.7728529e+00, -4.3568015e+00, -1.3067745e+00,\n",
              "         3.4086425e+00, -3.5016992e+00, -3.2738936e+00, -1.8189165e-01,\n",
              "        -3.1401703e+00,  6.7811251e+00,  1.7531370e+00, -3.0619705e+00,\n",
              "         1.9887028e+00, -3.7915699e+00,  6.3121233e+00, -3.2427409e+00,\n",
              "        -1.5203381e+00, -3.8779011e-01, -7.4048362e+00, -7.0319710e+00,\n",
              "         1.0281634e+00,  1.1079937e+00,  2.0251169e+00,  1.0399809e+00,\n",
              "         2.8167229e+00,  2.0976002e+00, -3.0303103e-01,  5.3148675e+00,\n",
              "        -1.3919680e-01,  2.5891259e+00, -1.6586410e+00,  1.9910569e+00,\n",
              "         6.0850147e+01,  7.8075603e-02, -1.6932877e+00,  8.2952213e-03,\n",
              "         1.8328699e+00,  3.0102186e+00,  1.0306027e+00]], dtype=float32)"
            ]
          },
          "metadata": {
            "tags": []
          },
          "execution_count": 151
        }
      ]
    },
    {
      "cell_type": "code",
      "metadata": {
        "colab": {
          "base_uri": "https://localhost:8080/"
        },
        "id": "60GdtjoRV94d",
        "outputId": "90cc338d-b59a-45d9-abc4-49f39d4c5672"
      },
      "source": [
        "from scipy.special import softmax\n",
        "y_pred=model.predict(np.array([100]))\n",
        "av_softmax = softmax(y_pred) #turn reward distribution into probability distribution\n",
        "av_softmax /= av_softmax.sum() #make sure total prob adds to 1\n",
        "node_target=np.unravel_index(av_softmax.argmax(), av_softmax.shape)\n",
        "print(\"Candidate Node: \",node_target[1])"
      ],
      "execution_count": null,
      "outputs": [
        {
          "output_type": "stream",
          "text": [
            "Candidate Node:  58\n"
          ],
          "name": "stdout"
        }
      ]
    },
    {
      "cell_type": "code",
      "metadata": {
        "colab": {
          "base_uri": "https://localhost:8080/"
        },
        "id": "ZxaVQdOl22g0",
        "outputId": "c5ef0b19-ac97-4731-c9c9-6afdb0114352"
      },
      "source": [
        "for n in range(Edge_Id.shape[0]):\n",
        "  if (100==Edge_Id[n,0] ) or (100==Edge_Id[n,1]):\n",
        "    print(Edge_Id[n,:])"
      ],
      "execution_count": null,
      "outputs": [
        {
          "output_type": "stream",
          "text": [
            "[ 21. 100.]\n"
          ],
          "name": "stdout"
        }
      ]
    },
    {
      "cell_type": "code",
      "metadata": {
        "id": "lN-FAEuEqIxq"
      },
      "source": [
        "K=av_softmax.argsort()"
      ],
      "execution_count": null,
      "outputs": []
    },
    {
      "cell_type": "code",
      "metadata": {
        "colab": {
          "base_uri": "https://localhost:8080/"
        },
        "id": "7CQccaMv1vKg",
        "outputId": "6e269497-723f-4160-a716-6764ad1f9ff5"
      },
      "source": [
        "for i in range(119):\n",
        "  print(K[:,-i-1])"
      ],
      "execution_count": null,
      "outputs": [
        {
          "output_type": "stream",
          "text": [
            "[58]\n",
            "[112]\n",
            "[38]\n",
            "[29]\n",
            "[11]\n",
            "[24]\n",
            "[105]\n",
            "[117]\n",
            "[17]\n",
            "[79]\n",
            "[101]\n",
            "[12]\n",
            "[3]\n",
            "[15]\n",
            "[94]\n",
            "[44]\n",
            "[51]\n",
            "[14]\n",
            "[102]\n",
            "[32]\n",
            "[77]\n",
            "[4]\n",
            "[40]\n",
            "[89]\n",
            "[19]\n",
            "[53]\n",
            "[43]\n",
            "[6]\n",
            "[13]\n",
            "[111]\n",
            "[70]\n",
            "[34]\n",
            "[103]\n",
            "[69]\n",
            "[35]\n",
            "[52]\n",
            "[50]\n",
            "[39]\n",
            "[42]\n",
            "[108]\n",
            "[106]\n",
            "[107]\n",
            "[31]\n",
            "[10]\n",
            "[0]\n",
            "[64]\n",
            "[27]\n",
            "[100]\n",
            "[37]\n",
            "[76]\n",
            "[63]\n",
            "[116]\n",
            "[22]\n",
            "[80]\n",
            "[104]\n",
            "[90]\n",
            "[55]\n",
            "[74]\n",
            "[16]\n",
            "[114]\n",
            "[41]\n",
            "[23]\n",
            "[92]\n",
            "[72]\n",
            "[21]\n",
            "[61]\n",
            "[56]\n",
            "[66]\n",
            "[57]\n",
            "[65]\n",
            "[86]\n",
            "[84]\n",
            "[33]\n",
            "[62]\n",
            "[26]\n",
            "[91]\n",
            "[45]\n",
            "[83]\n",
            "[7]\n",
            "[71]\n",
            "[96]\n",
            "[87]\n",
            "[113]\n",
            "[73]\n",
            "[5]\n",
            "[47]\n",
            "[25]\n",
            "[95]\n",
            "[30]\n",
            "[81]\n",
            "[46]\n",
            "[20]\n",
            "[110]\n",
            "[115]\n",
            "[78]\n",
            "[85]\n",
            "[97]\n",
            "[118]\n",
            "[8]\n",
            "[36]\n",
            "[93]\n",
            "[109]\n",
            "[59]\n",
            "[88]\n",
            "[1]\n",
            "[54]\n",
            "[48]\n",
            "[68]\n",
            "[9]\n",
            "[49]\n",
            "[28]\n",
            "[82]\n",
            "[2]\n",
            "[60]\n",
            "[18]\n",
            "[75]\n",
            "[98]\n",
            "[99]\n",
            "[67]\n"
          ],
          "name": "stdout"
        }
      ]
    },
    {
      "cell_type": "code",
      "metadata": {
        "colab": {
          "base_uri": "https://localhost:8080/"
        },
        "id": "sZFZ29if2-ZM",
        "outputId": "5e55cf33-583a-40fe-a7a4-7d29a560f5ef"
      },
      "source": [
        "\n",
        "for n in range(Edge_Id.shape[0]):\n",
        "  if (2==Edge_Id[n,0] ) or (2==Edge_Id[n,1]):\n",
        "    print(Edge_Id[n,:])"
      ],
      "execution_count": null,
      "outputs": [
        {
          "output_type": "stream",
          "text": [
            "[2. 5.]\n"
          ],
          "name": "stdout"
        }
      ]
    },
    {
      "cell_type": "code",
      "metadata": {
        "id": "-QN0Tp7t3c0A"
      },
      "source": [
        "R=av_softmax[0,:]"
      ],
      "execution_count": null,
      "outputs": []
    },
    {
      "cell_type": "markdown",
      "metadata": {
        "id": "zCY4r4DfUbCs"
      },
      "source": [
        "Q-Learning based Novelty"
      ]
    },
    {
      "cell_type": "code",
      "metadata": {
        "colab": {
          "base_uri": "https://localhost:8080/"
        },
        "id": "wU6wdoOkU9W8",
        "outputId": "d2be9882-d3cf-4722-d2cf-43232ddf1fcb"
      },
      "source": [
        "class ShowerEnv(Env):\n",
        "    def __init__(self):\n",
        "        # Actions we can take, down, stay, up\n",
        "        self.action_space = Discrete(J_Matrix.shape[0])\n",
        "        # Temperature array\n",
        "        # self.observation_space = Box(low=np.array([0]), high=np.array([100]))\n",
        "        self.observation_space =  Box(low=np.array([0]), high=np.array([J_Matrix.shape[0]]),dtype=np.int)\n",
        "        # Set start temp\n",
        "        self.state = math.ceil(J_Matrix.shape[0]/2) + random.randint(math.ceil(-J_Matrix.shape[0]/2),math.ceil(J_Matrix.shape[0]/2))\n",
        "        # Set shower length\n",
        "        self.shower_length = J_Matrix.shape[0]\n",
        "        \n",
        "    def step(self, action):\n",
        "        # Apply action\n",
        "        # 0 -1 = -1 temperature\n",
        "        # 1 -1 = 0 \n",
        "        # 2 -1 = 1 temperature \n",
        "        temp_state=self.state\n",
        "        self.state = action\n",
        "        # Reduce shower length by 1 second\n",
        "        self.shower_length -= 1 \n",
        "        \n",
        "        # Calculate reward\n",
        "        if J_Matrix[math.ceil(temp_state),math.ceil(self.state)] >=1: \n",
        "            reward =1 \n",
        "        else: \n",
        "            reward = -1 \n",
        "        \n",
        "        # Check if shower is done\n",
        "        if self.shower_length <= 0: \n",
        "            done = True\n",
        "        else:\n",
        "            done = False\n",
        "        \n",
        "        # Apply temperature noise\n",
        "        #self.state += random.randint(-1,1)\n",
        "        # Set placeholder for info\n",
        "        info = {}\n",
        "        \n",
        "        # Return step information\n",
        "        return self.state, reward, done, info\n",
        "    def render(self):\n",
        "        # Implement viz\n",
        "        pass\n",
        "    \n",
        "    def reset(self):\n",
        "        # Reset shower temperature\n",
        "        self.state = math.ceil(J_Matrix.shape[0]/2) \n",
        "        # Reset shower time\n",
        "        self.shower_length =J_Matrix.shape[0]\n",
        "        return self.state"
      ],
      "execution_count": null,
      "outputs": [
        {
          "output_type": "stream",
          "text": [
            "Collecting unionfind\n",
            "  Downloading https://files.pythonhosted.org/packages/2f/00/69a07c0e6a07ea3eb0b6fccf4a6b01b6497f6666e253cc45afe3aa267c1e/unionfind-0.0.12-py3-none-any.whl\n",
            "Installing collected packages: unionfind\n",
            "Successfully installed unionfind-0.0.12\n"
          ],
          "name": "stdout"
        }
      ]
    },
    {
      "cell_type": "code",
      "metadata": {
        "id": "2wT29bH14Hqc"
      },
      "source": [
        "class Blob:\n",
        "    def __init__(self):\n",
        "        self.x = np.random.randint(0, SIZE)\n",
        "        self.y = np.random.randint(0, SIZE)\n",
        "\n",
        "    def __str__(self):\n",
        "        return f\"{self.x}, {self.y}\"\n",
        "\n",
        "    def __sub__(self, other):\n",
        "        return (self.x-other.x, self.y-other.y)\n",
        "\n",
        "    def action(self, choice):\n",
        "        if choice == 0:\n",
        "          self.move(x=0, y=1)\n",
        "        for i in range(SIZE-1):\n",
        "          if choice == i+1:\n",
        "            self.move(x=0, y=i+1)\n",
        "            break\n",
        "        # elif choice == 2:\n",
        "        #     self.move(x=-1, y=1)\n",
        "        # elif choice == 3:\n",
        "        #     self.move(x=1, y=-1)\n",
        "\n",
        "    def move(self, x=False, y=False):\n",
        "\n",
        "        # If no value for x, move randomly\n",
        "        if not x:\n",
        "            self.x += np.random.randint(-1, 2)\n",
        "        else:\n",
        "            self.x += x\n",
        "\n",
        "        # If no value for y, move randomly\n",
        "        if not y:\n",
        "            self.y += np.random.randint(-1, 2)\n",
        "        else:\n",
        "            self.y += y\n",
        "\n",
        "\n",
        "        # If we are out of bounds, fix!\n",
        "        if self.x < 0:\n",
        "            self.x = 0\n",
        "        elif self.x > SIZE-1:\n",
        "            self.x = SIZE-1\n",
        "        if self.y < 0:\n",
        "            self.y = 0\n",
        "        elif self.y > SIZE-1:\n",
        "            self.y = SIZE-1"
      ],
      "execution_count": null,
      "outputs": []
    },
    {
      "cell_type": "code",
      "metadata": {
        "id": "-0de-m0h3M3j"
      },
      "source": [
        "SIZE = 119\n",
        "\n",
        "HM_EPISODES = 25000\n",
        "MOVE_PENALTY = 1\n",
        "ENEMY_PENALTY = 300\n",
        "FOOD_REWARD = 25\n",
        "epsilon = 0.9\n",
        "EPS_DECAY = 0.9998  # Every episode will be epsilon*EPS_DECAY\n",
        "SHOW_EVERY = 3000  # how often to play through env visually.\n",
        "\n",
        "start_q_table = None # None or Filename\n",
        "\n",
        "LEARNING_RATE = 0.1\n",
        "DISCOUNT = 0.95\n",
        "\n",
        "\n",
        "q_table=J_Matrix\n",
        "\n",
        "X_enemy=[]\n",
        "Y_enemy=[]\n",
        "X_food=[]\n",
        "Y_food=[]\n",
        "a,b=J_Matrix.shape\n",
        "for i in range(a):\n",
        "  for j in range(b):\n",
        "    if J_Matrix[i,j]==0:\n",
        "      X_enemy.append(i)\n",
        "      Y_enemy.append(j)\n",
        "    else:\n",
        "      X_food.append(i)\n",
        "      Y_food.append(j)\n",
        "\n",
        "\n",
        "\n",
        "episode_rewards = []\n",
        "\n",
        "for episode in range(HM_EPISODES):\n",
        "    player = Blob()\n",
        "    food = Blob()\n",
        "    enemy = Blob()\n",
        "    \n",
        "    \n",
        "\n",
        "\n",
        "    if episode % SHOW_EVERY == 0:\n",
        "        print(f\"on #{episode}, epsilon is {epsilon}\")\n",
        "        print(f\"{SHOW_EVERY} ep mean: {np.mean(episode_rewards[-SHOW_EVERY:])}\")\n",
        "        show = True\n",
        "    else:\n",
        "        show = False\n",
        "\n",
        "    episode_reward = 0\n",
        "    for i in range(J_Matrix.shape[0]):\n",
        "        obs = i\n",
        "        #print(obs)\n",
        "        if np.random.random() > epsilon:\n",
        "            # GET THE ACTION\n",
        "            action = np.argmax(q_table[obs])\n",
        "        else:\n",
        "            action = np.random.randint(0, J_Matrix.shape[0])\n",
        "        # Take the action!\n",
        "        player.action(action)\n",
        "\n",
        "        #### MAYBE ###\n",
        "        #enemy.move()\n",
        "        #food.move()\n",
        "        ##############\n",
        "\n",
        "\n",
        "\n",
        "        enemy.x=random.choice(X_enemy)\n",
        "        enemy.y=random.choice(Y_enemy)\n",
        "        food.x=random.choice(X_food)\n",
        "        food.y=random.choice(Y_food)\n",
        "\n",
        "        if player.x == enemy.x and player.y == enemy.y:\n",
        "            reward = -ENEMY_PENALTY\n",
        "        elif player.x == food.x and player.y == food.y:\n",
        "            reward = FOOD_REWARD\n",
        "        else:\n",
        "            reward = -MOVE_PENALTY\n",
        "        ## NOW WE KNOW THE REWARD, LET'S CALC YO\n",
        "        # first we need to obs immediately after the move.\n",
        "        new_obs = (player-food, player-enemy)\n",
        "        max_future_q = np.max(q_table[new_obs])\n",
        "        current_q = q_table[obs][action]\n",
        "\n",
        "        if reward == FOOD_REWARD:\n",
        "            new_q = FOOD_REWARD\n",
        "        else:\n",
        "            new_q = (1 - LEARNING_RATE) * current_q + LEARNING_RATE * (reward + DISCOUNT * max_future_q)\n",
        "        q_table[obs][action] = new_q\n",
        "\n",
        "        \n",
        "\n",
        "        episode_reward += reward\n",
        "        if reward == FOOD_REWARD or reward == -ENEMY_PENALTY:\n",
        "            break\n",
        "\n",
        "    #print(episode_reward)\n",
        "    episode_rewards.append(episode_reward)\n",
        "    epsilon *= EPS_DECAY"
      ],
      "execution_count": null,
      "outputs": []
    }
  ]
}